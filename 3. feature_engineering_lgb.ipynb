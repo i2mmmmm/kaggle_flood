{
  "nbformat": 4,
  "nbformat_minor": 0,
  "metadata": {
    "colab": {
      "provenance": [],
      "authorship_tag": "ABX9TyOA1ObYoJrJr75LGPF8YB0y",
      "include_colab_link": true
    },
    "kernelspec": {
      "name": "python3",
      "display_name": "Python 3"
    },
    "language_info": {
      "name": "python"
    }
  },
  "cells": [
    {
      "cell_type": "markdown",
      "metadata": {
        "id": "view-in-github",
        "colab_type": "text"
      },
      "source": [
        "<a href=\"https://colab.research.google.com/github/i2mmmmm/kaggle_flood/blob/main/3.%20feature_engineering_lgb.ipynb\" target=\"_parent\"><img src=\"https://colab.research.google.com/assets/colab-badge.svg\" alt=\"Open In Colab\"/></a>"
      ]
    },
    {
      "cell_type": "code",
      "source": [
        "import os\n",
        "os.environ['KAGGLE_USERNAME']='mmmmmlee'\n",
        "os.environ['KAGGLE_KEY']='b4527f98e27813c6dae3fb199096dcb5'"
      ],
      "metadata": {
        "id": "fs6gowPQ409q"
      },
      "execution_count": 1,
      "outputs": []
    },
    {
      "cell_type": "code",
      "source": [
        "!kaggle competitions download -c Playground-series-s4e5"
      ],
      "metadata": {
        "colab": {
          "base_uri": "https://localhost:8080/"
        },
        "id": "l-Xevuva5hJF",
        "outputId": "a7576601-7c9a-454d-c37d-b11c576cbc83"
      },
      "execution_count": 2,
      "outputs": [
        {
          "output_type": "stream",
          "name": "stdout",
          "text": [
            "Downloading Playground-series-s4e5.zip to /content\n",
            " 50% 14.0M/28.0M [00:00<00:00, 146MB/s]\n",
            "100% 28.0M/28.0M [00:00<00:00, 167MB/s]\n"
          ]
        }
      ]
    },
    {
      "cell_type": "code",
      "source": [
        "!unzip 'Playground-series-s4e5.zip'"
      ],
      "metadata": {
        "colab": {
          "base_uri": "https://localhost:8080/"
        },
        "id": "F3TOjJfH5tZc",
        "outputId": "146da014-9edf-429d-80c3-603d750f0ab1"
      },
      "execution_count": 3,
      "outputs": [
        {
          "output_type": "stream",
          "name": "stdout",
          "text": [
            "Archive:  Playground-series-s4e5.zip\n",
            "  inflating: sample_submission.csv   \n",
            "  inflating: test.csv                \n",
            "  inflating: train.csv               \n"
          ]
        }
      ]
    },
    {
      "cell_type": "code",
      "source": [
        "import pandas as pd\n",
        "import numpy as np\n",
        "import seaborn as sns\n",
        "import matplotlib.pyplot as plt\n",
        "\n",
        "from sklearn.preprocessing import StandardScaler\n",
        "from sklearn.linear_model import LinearRegression\n",
        "from sklearn.model_selection import train_test_split\n",
        "from sklearn.metrics import mean_squared_error, r2_score\n",
        "\n",
        "from sklearn.ensemble import VotingRegressor, BaggingRegressor, StackingRegressor\n",
        "from sklearn.linear_model import BayesianRidge, SGDRegressor, Ridge\n",
        "from sklearn.model_selection import cross_val_score, KFold\n",
        "from sklearn.pipeline import make_pipeline\n",
        "import xgboost as xgb\n",
        "import lightgbm as lgb\n"
      ],
      "metadata": {
        "id": "387z09Uk6WPr"
      },
      "execution_count": 63,
      "outputs": []
    },
    {
      "cell_type": "code",
      "source": [
        "train = pd.read_csv('train.csv')\n",
        "test = pd.read_csv('test.csv')\n",
        "sample_submission = pd.read_csv('sample_submission.csv')"
      ],
      "metadata": {
        "id": "vq29Kz8I76PP"
      },
      "execution_count": 53,
      "outputs": []
    },
    {
      "cell_type": "code",
      "source": [
        "# train 표준화, 스케일링\n",
        "scaler = StandardScaler()\n",
        "X = train.drop(columns=['FloodProbability', 'id'])\n",
        "y = train['FloodProbability']\n",
        "X_scaled = scaler.fit_transform(X)"
      ],
      "metadata": {
        "id": "MWnmqYIrNEiW"
      },
      "execution_count": 54,
      "outputs": []
    },
    {
      "cell_type": "code",
      "source": [
        "# 선형회귀_baseline\n",
        "\n",
        "X_train, X_test, y_train, y_test = train_test_split(X_scaled, y, test_size=0.2, random_state=35)\n",
        "model = LinearRegression()\n",
        "model.fit(X_train, y_train)\n",
        "y_pred = model.predict(X_test)\n",
        "\n",
        "print('R2 Score:', r2_score(y_test, y_pred))\n",
        "print('MSE:', mean_squared_error(y_test, y_pred))"
      ],
      "metadata": {
        "colab": {
          "base_uri": "https://localhost:8080/"
        },
        "id": "tZM072ebOAAk",
        "outputId": "5bb1e7c9-ec6a-4ae1-dd70-bcfbf3fc3771"
      },
      "execution_count": 55,
      "outputs": [
        {
          "output_type": "stream",
          "name": "stdout",
          "text": [
            "R2 Score: 0.8449835489068076\n",
            "MSE: 0.00040395088979260915\n"
          ]
        }
      ]
    },
    {
      "cell_type": "code",
      "source": [
        "# Feature Engineering\n",
        "train['Climate_Risk'] = train['MonsoonIntensity'] * train['ClimateChange']\n",
        "train['Infrastructure_Risk'] = train['DamsQuality'] * train['DrainageSystems']\n",
        "train['wet_Risk'] = train['WetlandLoss'] + train['Encroachments']"
      ],
      "metadata": {
        "id": "Zcjlg7eL6JJW"
      },
      "execution_count": 56,
      "outputs": []
    },
    {
      "cell_type": "code",
      "source": [
        "# 다시 스케일링\n",
        "X = train.drop(columns=['FloodProbability', 'id'])\n",
        "y = train['FloodProbability']\n",
        "X_scaled = scaler.fit_transform(X)"
      ],
      "metadata": {
        "id": "T0EkpGJeDtor"
      },
      "execution_count": 57,
      "outputs": []
    },
    {
      "cell_type": "code",
      "source": [
        "X_train, X_test, y_train, y_test = train_test_split(X_scaled, y, test_size=0.2, random_state=35)\n",
        "model = LinearRegression()\n",
        "model.fit(X_train, y_train)\n",
        "y_pred = model.predict(X_test)\n",
        "\n",
        "print('R2 Score:', r2_score(y_test, y_pred))\n",
        "print('MSE:', mean_squared_error(y_test, y_pred))"
      ],
      "metadata": {
        "colab": {
          "base_uri": "https://localhost:8080/"
        },
        "id": "o3IAZ5AW6QUV",
        "outputId": "c66997da-c346-43c6-fc38-074684e87adf"
      },
      "execution_count": 58,
      "outputs": [
        {
          "output_type": "stream",
          "name": "stdout",
          "text": [
            "R2 Score: 0.8449901321915165\n",
            "MSE: 0.00040393373468618546\n"
          ]
        }
      ]
    },
    {
      "cell_type": "code",
      "source": [],
      "metadata": {
        "id": "0jLoQNTVEkhk"
      },
      "execution_count": null,
      "outputs": []
    },
    {
      "cell_type": "code",
      "source": [
        "models = {\n",
        "    'Linear Regression': LinearRegression(),\n",
        "    'Ridge Regression': Ridge(),\n",
        "    'SGD Regressor': SGDRegressor(),\n",
        "    'Bayesian Ridge Regression': BayesianRidge(),\n",
        "    'Bagging Regressor': BaggingRegressor(estimator=LinearRegression()),\n",
        "    'XGBoost Regressor': xgb.XGBRegressor(),\n",
        "    'LightGBM Regressor': lgb.LGBMRegressor(),\n",
        "}"
      ],
      "metadata": {
        "id": "M4qw48dIEBmX"
      },
      "execution_count": 61,
      "outputs": []
    },
    {
      "cell_type": "code",
      "source": [
        "X_train, X_test, y_train, y_test = train_test_split(X_scaled, y, test_size=0.2, random_state=35)\n",
        "\n",
        "kf = KFold(n_splits=5, shuffle=True, random_state=35)\n",
        "\n",
        "for name, model in models.items():\n",
        "    mse_values = []\n",
        "    r2_values = []\n",
        "    for train_index, val_index in kf.split(X):\n",
        "        X_train, X_val = X.iloc[train_index], X.iloc[val_index]\n",
        "        y_train, y_val = y.iloc[train_index], y.iloc[val_index]\n",
        "\n",
        "        model.fit(X_train, y_train)\n",
        "        y_pred = model.predict(X_val)\n",
        "        r2_values.append(r2_score(y_val, y_pred))\n",
        "    avg_r2 = np.mean(r2_values)\n",
        "    print(f'{name}: R2 = {avg_r2:.4f}')"
      ],
      "metadata": {
        "id": "TsEcINhpENRU",
        "outputId": "d3bd48f3-4d86-4dc0-886d-66a9be81a621",
        "colab": {
          "base_uri": "https://localhost:8080/"
        }
      },
      "execution_count": 64,
      "outputs": [
        {
          "output_type": "stream",
          "name": "stdout",
          "text": [
            "Linear Regression: R2 = 0.8450\n",
            "Ridge Regression: R2 = 0.8450\n",
            "SGD Regressor: R2 = 0.8068\n",
            "Bayesian Ridge Regression: R2 = 0.8450\n"
          ]
        },
        {
          "output_type": "stream",
          "name": "stderr",
          "text": [
            "/usr/local/lib/python3.10/dist-packages/sklearn/ensemble/_base.py:166: FutureWarning: `base_estimator` was renamed to `estimator` in version 1.2 and will be removed in 1.4.\n",
            "  warnings.warn(\n",
            "/usr/local/lib/python3.10/dist-packages/sklearn/ensemble/_base.py:166: FutureWarning: `base_estimator` was renamed to `estimator` in version 1.2 and will be removed in 1.4.\n",
            "  warnings.warn(\n",
            "/usr/local/lib/python3.10/dist-packages/sklearn/ensemble/_base.py:166: FutureWarning: `base_estimator` was renamed to `estimator` in version 1.2 and will be removed in 1.4.\n",
            "  warnings.warn(\n",
            "/usr/local/lib/python3.10/dist-packages/sklearn/ensemble/_base.py:166: FutureWarning: `base_estimator` was renamed to `estimator` in version 1.2 and will be removed in 1.4.\n",
            "  warnings.warn(\n",
            "/usr/local/lib/python3.10/dist-packages/sklearn/ensemble/_base.py:166: FutureWarning: `base_estimator` was renamed to `estimator` in version 1.2 and will be removed in 1.4.\n",
            "  warnings.warn(\n"
          ]
        },
        {
          "output_type": "stream",
          "name": "stdout",
          "text": [
            "Bagging Regressor: R2 = 0.8449\n",
            "XGBoost Regressor: R2 = 0.8137\n",
            "[LightGBM] [Info] Auto-choosing col-wise multi-threading, the overhead of testing was 0.210759 seconds.\n",
            "You can set `force_col_wise=true` to remove the overhead.\n",
            "[LightGBM] [Info] Total Bins 527\n",
            "[LightGBM] [Info] Number of data points in the train set: 894365, number of used features: 23\n",
            "[LightGBM] [Info] Start training from score 0.504465\n",
            "[LightGBM] [Info] Auto-choosing col-wise multi-threading, the overhead of testing was 0.222365 seconds.\n",
            "You can set `force_col_wise=true` to remove the overhead.\n",
            "[LightGBM] [Info] Total Bins 525\n",
            "[LightGBM] [Info] Number of data points in the train set: 894365, number of used features: 23\n",
            "[LightGBM] [Info] Start training from score 0.504491\n",
            "[LightGBM] [Info] Auto-choosing col-wise multi-threading, the overhead of testing was 0.204799 seconds.\n",
            "You can set `force_col_wise=true` to remove the overhead.\n",
            "[LightGBM] [Info] Total Bins 527\n",
            "[LightGBM] [Info] Number of data points in the train set: 894366, number of used features: 23\n",
            "[LightGBM] [Info] Start training from score 0.504485\n",
            "[LightGBM] [Info] Auto-choosing col-wise multi-threading, the overhead of testing was 0.221190 seconds.\n",
            "You can set `force_col_wise=true` to remove the overhead.\n",
            "[LightGBM] [Info] Total Bins 523\n",
            "[LightGBM] [Info] Number of data points in the train set: 894366, number of used features: 23\n",
            "[LightGBM] [Info] Start training from score 0.504483\n",
            "[LightGBM] [Info] Auto-choosing col-wise multi-threading, the overhead of testing was 0.207812 seconds.\n",
            "You can set `force_col_wise=true` to remove the overhead.\n",
            "[LightGBM] [Info] Total Bins 524\n",
            "[LightGBM] [Info] Number of data points in the train set: 894366, number of used features: 23\n",
            "[LightGBM] [Info] Start training from score 0.504477\n",
            "LightGBM Regressor: R2 = 0.7876\n"
          ]
        }
      ]
    },
    {
      "cell_type": "markdown",
      "source": [
        "Linear Regression: R2 = 0.8450  \n",
        "Ridge Regression: R2 = 0.8450  \n",
        "SGD Regressor: R2 = 0.8068  \n",
        "Bayesian Ridge Regression: R2 = 0.8450  \n",
        "Bagging Regressor: R2 = 0.8449  \n",
        "XGBoost Regressor: R2 = 0.8137  \n",
        "LightGBM Regressor: R2 = 0.7876  "
      ],
      "metadata": {
        "id": "-i80QXx9J1wQ"
      }
    },
    {
      "cell_type": "code",
      "source": [
        "# 다시 feature engineering\n",
        "train = pd.read_csv('train.csv')\n",
        "\n",
        "def simplified_getFeats(df):\n",
        "    num_cols = ['MonsoonIntensity', 'TopographyDrainage', 'RiverManagement', 'Deforestation', 'Urbanization', 'ClimateChange', 'DamsQuality', 'Siltation', 'AgriculturalPractices', 'Encroachments', 'IneffectiveDisasterPreparedness', 'DrainageSystems', 'CoastalVulnerability', 'Landslides', 'Watersheds', 'DeterioratingInfrastructure', 'PopulationScore', 'WetlandLoss', 'InadequatePlanning', 'PoliticalFactors']\n",
        "\n",
        "    scaler = StandardScaler().fit(df[num_cols])\n",
        "    df[num_cols] = scaler.transform(df[num_cols])  # Scale early\n",
        "\n",
        "    # Basic Stats\n",
        "    df['mean'] = df[num_cols].mean(axis=1)\n",
        "    df['std'] = df[num_cols].std(axis=1)\n",
        "    df['max'] = df[num_cols].max(axis=1)\n",
        "    df['min'] = df[num_cols].min(axis=1)\n",
        "\n",
        "    # Interaction Features (Simplified)\n",
        "    df['Climate_Risk'] = df['MonsoonIntensity'] * df['ClimateChange']\n",
        "    df['Infrastructure_Risk'] = df['DamsQuality'] * df['DrainageSystems']\n",
        "    df['wet_Risk'] = df['WetlandLoss'] + df['Encroachments']\n",
        "\n",
        "    return df\n",
        "\n",
        "train_simp = simplified_getFeats(train)"
      ],
      "metadata": {
        "id": "mQlKyqBzEBvf"
      },
      "execution_count": 65,
      "outputs": []
    },
    {
      "cell_type": "code",
      "source": [
        "train_simp.head()"
      ],
      "metadata": {
        "id": "UREeWhcMEB3M",
        "outputId": "6132383f-fe63-4e9a-ad31-5fa7070304c5",
        "colab": {
          "base_uri": "https://localhost:8080/",
          "height": 255
        }
      },
      "execution_count": 66,
      "outputs": [
        {
          "output_type": "execute_result",
          "data": {
            "text/plain": [
              "   id  MonsoonIntensity  TopographyDrainage  RiverManagement  Deforestation  \\\n",
              "0   0          0.038198            1.467769         0.021561       1.490363   \n",
              "1   1          0.524488            0.990186        -0.461022      -0.459251   \n",
              "2   2          0.524488            0.035021         0.504143       1.002959   \n",
              "3   3         -0.934382           -0.442562         0.504143       0.028152   \n",
              "4   4          0.038198           -0.920145        -1.426186       0.515556   \n",
              "\n",
              "   Urbanization  ClimateChange  DamsQuality  Siltation  AgriculturalPractices  \\\n",
              "0      0.507578      -0.453941    -0.458881  -0.933107              -0.939124   \n",
              "1      1.467552       1.489938    -0.938943   0.034951              -0.455692   \n",
              "2     -0.932383       1.003968    -1.899068   0.034951              -0.455692   \n",
              "3     -0.452396       1.489938    -0.458881   1.003010               0.511171   \n",
              "4     -0.452396      -0.453941    -0.938943  -0.933107              -0.939124   \n",
              "\n",
              "   ...  InadequatePlanning  PoliticalFactors  FloodProbability      mean  \\\n",
              "0  ...            0.989569         -0.927598             0.445 -0.115050   \n",
              "1  ...           -0.451962         -0.927598             0.450 -0.114543   \n",
              "2  ...           -0.932472         -0.927598             0.530  0.007501   \n",
              "3  ...            0.989569          0.029180             0.535  0.126028   \n",
              "4  ...           -0.932472          0.029180             0.415 -0.644937   \n",
              "\n",
              "        std       max       min  Climate_Risk  Infrastructure_Risk  wet_Risk  \n",
              "0  0.844049  1.490363 -1.417247     -0.017340            -0.011760 -0.431878  \n",
              "1  1.105743  1.951149 -2.372809      0.781455            -0.930233 -0.438667  \n",
              "2  0.933698  1.481302 -1.899068      0.526569            -1.881450 -1.402065  \n",
              "3  0.792178  1.489938 -1.422018     -1.392172             0.652537  1.488131  \n",
              "4  0.725208  0.515556 -1.893533     -0.017340             1.335194 -2.362070  \n",
              "\n",
              "[5 rows x 29 columns]"
            ],
            "text/html": [
              "\n",
              "  <div id=\"df-05f91541-6609-4287-b81d-79e2c61d76b1\" class=\"colab-df-container\">\n",
              "    <div>\n",
              "<style scoped>\n",
              "    .dataframe tbody tr th:only-of-type {\n",
              "        vertical-align: middle;\n",
              "    }\n",
              "\n",
              "    .dataframe tbody tr th {\n",
              "        vertical-align: top;\n",
              "    }\n",
              "\n",
              "    .dataframe thead th {\n",
              "        text-align: right;\n",
              "    }\n",
              "</style>\n",
              "<table border=\"1\" class=\"dataframe\">\n",
              "  <thead>\n",
              "    <tr style=\"text-align: right;\">\n",
              "      <th></th>\n",
              "      <th>id</th>\n",
              "      <th>MonsoonIntensity</th>\n",
              "      <th>TopographyDrainage</th>\n",
              "      <th>RiverManagement</th>\n",
              "      <th>Deforestation</th>\n",
              "      <th>Urbanization</th>\n",
              "      <th>ClimateChange</th>\n",
              "      <th>DamsQuality</th>\n",
              "      <th>Siltation</th>\n",
              "      <th>AgriculturalPractices</th>\n",
              "      <th>...</th>\n",
              "      <th>InadequatePlanning</th>\n",
              "      <th>PoliticalFactors</th>\n",
              "      <th>FloodProbability</th>\n",
              "      <th>mean</th>\n",
              "      <th>std</th>\n",
              "      <th>max</th>\n",
              "      <th>min</th>\n",
              "      <th>Climate_Risk</th>\n",
              "      <th>Infrastructure_Risk</th>\n",
              "      <th>wet_Risk</th>\n",
              "    </tr>\n",
              "  </thead>\n",
              "  <tbody>\n",
              "    <tr>\n",
              "      <th>0</th>\n",
              "      <td>0</td>\n",
              "      <td>0.038198</td>\n",
              "      <td>1.467769</td>\n",
              "      <td>0.021561</td>\n",
              "      <td>1.490363</td>\n",
              "      <td>0.507578</td>\n",
              "      <td>-0.453941</td>\n",
              "      <td>-0.458881</td>\n",
              "      <td>-0.933107</td>\n",
              "      <td>-0.939124</td>\n",
              "      <td>...</td>\n",
              "      <td>0.989569</td>\n",
              "      <td>-0.927598</td>\n",
              "      <td>0.445</td>\n",
              "      <td>-0.115050</td>\n",
              "      <td>0.844049</td>\n",
              "      <td>1.490363</td>\n",
              "      <td>-1.417247</td>\n",
              "      <td>-0.017340</td>\n",
              "      <td>-0.011760</td>\n",
              "      <td>-0.431878</td>\n",
              "    </tr>\n",
              "    <tr>\n",
              "      <th>1</th>\n",
              "      <td>1</td>\n",
              "      <td>0.524488</td>\n",
              "      <td>0.990186</td>\n",
              "      <td>-0.461022</td>\n",
              "      <td>-0.459251</td>\n",
              "      <td>1.467552</td>\n",
              "      <td>1.489938</td>\n",
              "      <td>-0.938943</td>\n",
              "      <td>0.034951</td>\n",
              "      <td>-0.455692</td>\n",
              "      <td>...</td>\n",
              "      <td>-0.451962</td>\n",
              "      <td>-0.927598</td>\n",
              "      <td>0.450</td>\n",
              "      <td>-0.114543</td>\n",
              "      <td>1.105743</td>\n",
              "      <td>1.951149</td>\n",
              "      <td>-2.372809</td>\n",
              "      <td>0.781455</td>\n",
              "      <td>-0.930233</td>\n",
              "      <td>-0.438667</td>\n",
              "    </tr>\n",
              "    <tr>\n",
              "      <th>2</th>\n",
              "      <td>2</td>\n",
              "      <td>0.524488</td>\n",
              "      <td>0.035021</td>\n",
              "      <td>0.504143</td>\n",
              "      <td>1.002959</td>\n",
              "      <td>-0.932383</td>\n",
              "      <td>1.003968</td>\n",
              "      <td>-1.899068</td>\n",
              "      <td>0.034951</td>\n",
              "      <td>-0.455692</td>\n",
              "      <td>...</td>\n",
              "      <td>-0.932472</td>\n",
              "      <td>-0.927598</td>\n",
              "      <td>0.530</td>\n",
              "      <td>0.007501</td>\n",
              "      <td>0.933698</td>\n",
              "      <td>1.481302</td>\n",
              "      <td>-1.899068</td>\n",
              "      <td>0.526569</td>\n",
              "      <td>-1.881450</td>\n",
              "      <td>-1.402065</td>\n",
              "    </tr>\n",
              "    <tr>\n",
              "      <th>3</th>\n",
              "      <td>3</td>\n",
              "      <td>-0.934382</td>\n",
              "      <td>-0.442562</td>\n",
              "      <td>0.504143</td>\n",
              "      <td>0.028152</td>\n",
              "      <td>-0.452396</td>\n",
              "      <td>1.489938</td>\n",
              "      <td>-0.458881</td>\n",
              "      <td>1.003010</td>\n",
              "      <td>0.511171</td>\n",
              "      <td>...</td>\n",
              "      <td>0.989569</td>\n",
              "      <td>0.029180</td>\n",
              "      <td>0.535</td>\n",
              "      <td>0.126028</td>\n",
              "      <td>0.792178</td>\n",
              "      <td>1.489938</td>\n",
              "      <td>-1.422018</td>\n",
              "      <td>-1.392172</td>\n",
              "      <td>0.652537</td>\n",
              "      <td>1.488131</td>\n",
              "    </tr>\n",
              "    <tr>\n",
              "      <th>4</th>\n",
              "      <td>4</td>\n",
              "      <td>0.038198</td>\n",
              "      <td>-0.920145</td>\n",
              "      <td>-1.426186</td>\n",
              "      <td>0.515556</td>\n",
              "      <td>-0.452396</td>\n",
              "      <td>-0.453941</td>\n",
              "      <td>-0.938943</td>\n",
              "      <td>-0.933107</td>\n",
              "      <td>-0.939124</td>\n",
              "      <td>...</td>\n",
              "      <td>-0.932472</td>\n",
              "      <td>0.029180</td>\n",
              "      <td>0.415</td>\n",
              "      <td>-0.644937</td>\n",
              "      <td>0.725208</td>\n",
              "      <td>0.515556</td>\n",
              "      <td>-1.893533</td>\n",
              "      <td>-0.017340</td>\n",
              "      <td>1.335194</td>\n",
              "      <td>-2.362070</td>\n",
              "    </tr>\n",
              "  </tbody>\n",
              "</table>\n",
              "<p>5 rows × 29 columns</p>\n",
              "</div>\n",
              "    <div class=\"colab-df-buttons\">\n",
              "\n",
              "  <div class=\"colab-df-container\">\n",
              "    <button class=\"colab-df-convert\" onclick=\"convertToInteractive('df-05f91541-6609-4287-b81d-79e2c61d76b1')\"\n",
              "            title=\"Convert this dataframe to an interactive table.\"\n",
              "            style=\"display:none;\">\n",
              "\n",
              "  <svg xmlns=\"http://www.w3.org/2000/svg\" height=\"24px\" viewBox=\"0 -960 960 960\">\n",
              "    <path d=\"M120-120v-720h720v720H120Zm60-500h600v-160H180v160Zm220 220h160v-160H400v160Zm0 220h160v-160H400v160ZM180-400h160v-160H180v160Zm440 0h160v-160H620v160ZM180-180h160v-160H180v160Zm440 0h160v-160H620v160Z\"/>\n",
              "  </svg>\n",
              "    </button>\n",
              "\n",
              "  <style>\n",
              "    .colab-df-container {\n",
              "      display:flex;\n",
              "      gap: 12px;\n",
              "    }\n",
              "\n",
              "    .colab-df-convert {\n",
              "      background-color: #E8F0FE;\n",
              "      border: none;\n",
              "      border-radius: 50%;\n",
              "      cursor: pointer;\n",
              "      display: none;\n",
              "      fill: #1967D2;\n",
              "      height: 32px;\n",
              "      padding: 0 0 0 0;\n",
              "      width: 32px;\n",
              "    }\n",
              "\n",
              "    .colab-df-convert:hover {\n",
              "      background-color: #E2EBFA;\n",
              "      box-shadow: 0px 1px 2px rgba(60, 64, 67, 0.3), 0px 1px 3px 1px rgba(60, 64, 67, 0.15);\n",
              "      fill: #174EA6;\n",
              "    }\n",
              "\n",
              "    .colab-df-buttons div {\n",
              "      margin-bottom: 4px;\n",
              "    }\n",
              "\n",
              "    [theme=dark] .colab-df-convert {\n",
              "      background-color: #3B4455;\n",
              "      fill: #D2E3FC;\n",
              "    }\n",
              "\n",
              "    [theme=dark] .colab-df-convert:hover {\n",
              "      background-color: #434B5C;\n",
              "      box-shadow: 0px 1px 3px 1px rgba(0, 0, 0, 0.15);\n",
              "      filter: drop-shadow(0px 1px 2px rgba(0, 0, 0, 0.3));\n",
              "      fill: #FFFFFF;\n",
              "    }\n",
              "  </style>\n",
              "\n",
              "    <script>\n",
              "      const buttonEl =\n",
              "        document.querySelector('#df-05f91541-6609-4287-b81d-79e2c61d76b1 button.colab-df-convert');\n",
              "      buttonEl.style.display =\n",
              "        google.colab.kernel.accessAllowed ? 'block' : 'none';\n",
              "\n",
              "      async function convertToInteractive(key) {\n",
              "        const element = document.querySelector('#df-05f91541-6609-4287-b81d-79e2c61d76b1');\n",
              "        const dataTable =\n",
              "          await google.colab.kernel.invokeFunction('convertToInteractive',\n",
              "                                                    [key], {});\n",
              "        if (!dataTable) return;\n",
              "\n",
              "        const docLinkHtml = 'Like what you see? Visit the ' +\n",
              "          '<a target=\"_blank\" href=https://colab.research.google.com/notebooks/data_table.ipynb>data table notebook</a>'\n",
              "          + ' to learn more about interactive tables.';\n",
              "        element.innerHTML = '';\n",
              "        dataTable['output_type'] = 'display_data';\n",
              "        await google.colab.output.renderOutput(dataTable, element);\n",
              "        const docLink = document.createElement('div');\n",
              "        docLink.innerHTML = docLinkHtml;\n",
              "        element.appendChild(docLink);\n",
              "      }\n",
              "    </script>\n",
              "  </div>\n",
              "\n",
              "\n",
              "<div id=\"df-f5753fc6-3098-4d2b-ae29-935005fd8819\">\n",
              "  <button class=\"colab-df-quickchart\" onclick=\"quickchart('df-f5753fc6-3098-4d2b-ae29-935005fd8819')\"\n",
              "            title=\"Suggest charts\"\n",
              "            style=\"display:none;\">\n",
              "\n",
              "<svg xmlns=\"http://www.w3.org/2000/svg\" height=\"24px\"viewBox=\"0 0 24 24\"\n",
              "     width=\"24px\">\n",
              "    <g>\n",
              "        <path d=\"M19 3H5c-1.1 0-2 .9-2 2v14c0 1.1.9 2 2 2h14c1.1 0 2-.9 2-2V5c0-1.1-.9-2-2-2zM9 17H7v-7h2v7zm4 0h-2V7h2v10zm4 0h-2v-4h2v4z\"/>\n",
              "    </g>\n",
              "</svg>\n",
              "  </button>\n",
              "\n",
              "<style>\n",
              "  .colab-df-quickchart {\n",
              "      --bg-color: #E8F0FE;\n",
              "      --fill-color: #1967D2;\n",
              "      --hover-bg-color: #E2EBFA;\n",
              "      --hover-fill-color: #174EA6;\n",
              "      --disabled-fill-color: #AAA;\n",
              "      --disabled-bg-color: #DDD;\n",
              "  }\n",
              "\n",
              "  [theme=dark] .colab-df-quickchart {\n",
              "      --bg-color: #3B4455;\n",
              "      --fill-color: #D2E3FC;\n",
              "      --hover-bg-color: #434B5C;\n",
              "      --hover-fill-color: #FFFFFF;\n",
              "      --disabled-bg-color: #3B4455;\n",
              "      --disabled-fill-color: #666;\n",
              "  }\n",
              "\n",
              "  .colab-df-quickchart {\n",
              "    background-color: var(--bg-color);\n",
              "    border: none;\n",
              "    border-radius: 50%;\n",
              "    cursor: pointer;\n",
              "    display: none;\n",
              "    fill: var(--fill-color);\n",
              "    height: 32px;\n",
              "    padding: 0;\n",
              "    width: 32px;\n",
              "  }\n",
              "\n",
              "  .colab-df-quickchart:hover {\n",
              "    background-color: var(--hover-bg-color);\n",
              "    box-shadow: 0 1px 2px rgba(60, 64, 67, 0.3), 0 1px 3px 1px rgba(60, 64, 67, 0.15);\n",
              "    fill: var(--button-hover-fill-color);\n",
              "  }\n",
              "\n",
              "  .colab-df-quickchart-complete:disabled,\n",
              "  .colab-df-quickchart-complete:disabled:hover {\n",
              "    background-color: var(--disabled-bg-color);\n",
              "    fill: var(--disabled-fill-color);\n",
              "    box-shadow: none;\n",
              "  }\n",
              "\n",
              "  .colab-df-spinner {\n",
              "    border: 2px solid var(--fill-color);\n",
              "    border-color: transparent;\n",
              "    border-bottom-color: var(--fill-color);\n",
              "    animation:\n",
              "      spin 1s steps(1) infinite;\n",
              "  }\n",
              "\n",
              "  @keyframes spin {\n",
              "    0% {\n",
              "      border-color: transparent;\n",
              "      border-bottom-color: var(--fill-color);\n",
              "      border-left-color: var(--fill-color);\n",
              "    }\n",
              "    20% {\n",
              "      border-color: transparent;\n",
              "      border-left-color: var(--fill-color);\n",
              "      border-top-color: var(--fill-color);\n",
              "    }\n",
              "    30% {\n",
              "      border-color: transparent;\n",
              "      border-left-color: var(--fill-color);\n",
              "      border-top-color: var(--fill-color);\n",
              "      border-right-color: var(--fill-color);\n",
              "    }\n",
              "    40% {\n",
              "      border-color: transparent;\n",
              "      border-right-color: var(--fill-color);\n",
              "      border-top-color: var(--fill-color);\n",
              "    }\n",
              "    60% {\n",
              "      border-color: transparent;\n",
              "      border-right-color: var(--fill-color);\n",
              "    }\n",
              "    80% {\n",
              "      border-color: transparent;\n",
              "      border-right-color: var(--fill-color);\n",
              "      border-bottom-color: var(--fill-color);\n",
              "    }\n",
              "    90% {\n",
              "      border-color: transparent;\n",
              "      border-bottom-color: var(--fill-color);\n",
              "    }\n",
              "  }\n",
              "</style>\n",
              "\n",
              "  <script>\n",
              "    async function quickchart(key) {\n",
              "      const quickchartButtonEl =\n",
              "        document.querySelector('#' + key + ' button');\n",
              "      quickchartButtonEl.disabled = true;  // To prevent multiple clicks.\n",
              "      quickchartButtonEl.classList.add('colab-df-spinner');\n",
              "      try {\n",
              "        const charts = await google.colab.kernel.invokeFunction(\n",
              "            'suggestCharts', [key], {});\n",
              "      } catch (error) {\n",
              "        console.error('Error during call to suggestCharts:', error);\n",
              "      }\n",
              "      quickchartButtonEl.classList.remove('colab-df-spinner');\n",
              "      quickchartButtonEl.classList.add('colab-df-quickchart-complete');\n",
              "    }\n",
              "    (() => {\n",
              "      let quickchartButtonEl =\n",
              "        document.querySelector('#df-f5753fc6-3098-4d2b-ae29-935005fd8819 button');\n",
              "      quickchartButtonEl.style.display =\n",
              "        google.colab.kernel.accessAllowed ? 'block' : 'none';\n",
              "    })();\n",
              "  </script>\n",
              "</div>\n",
              "\n",
              "    </div>\n",
              "  </div>\n"
            ],
            "application/vnd.google.colaboratory.intrinsic+json": {
              "type": "dataframe",
              "variable_name": "train_simp"
            }
          },
          "metadata": {},
          "execution_count": 66
        }
      ]
    },
    {
      "cell_type": "code",
      "source": [
        "models = {\n",
        "    'Linear Regression': LinearRegression(),\n",
        "    'Ridge Regression': Ridge(),\n",
        "    'SGD Regressor': SGDRegressor(),\n",
        "    'Bayesian Ridge Regression': BayesianRidge(),\n",
        "    'Bagging Regressor': BaggingRegressor(estimator=LinearRegression()),\n",
        "    'XGBoost Regressor': xgb.XGBRegressor(),\n",
        "    'LightGBM Regressor': lgb.LGBMRegressor(),\n",
        "}\n",
        "\n",
        "X_train, X_test, y_train, y_test = train_test_split(X, y, test_size=0.2, random_state=35)\n",
        "\n",
        "kf = KFold(n_splits=5, shuffle=True, random_state=35)\n",
        "\n",
        "for name, model in models.items():\n",
        "    mse_values = []\n",
        "    r2_values = []\n",
        "    for train_index, val_index in kf.split(X):\n",
        "        X_train, X_val = X.iloc[train_index], X.iloc[val_index]\n",
        "        y_train, y_val = y.iloc[train_index], y.iloc[val_index]\n",
        "\n",
        "        model.fit(X_train, y_train)\n",
        "        y_pred = model.predict(X_val)\n",
        "        r2_values.append(r2_score(y_val, y_pred))\n",
        "    avg_r2 = np.mean(r2_values)\n",
        "    print(f'{name}: R2 = {avg_r2:.4f}')"
      ],
      "metadata": {
        "id": "3LB8MnC1EB6F",
        "outputId": "ac64d1d7-b45e-4a66-8062-9e9357e896c6",
        "colab": {
          "base_uri": "https://localhost:8080/"
        }
      },
      "execution_count": 68,
      "outputs": [
        {
          "output_type": "stream",
          "name": "stdout",
          "text": [
            "Linear Regression: R2 = 0.8451\n",
            "Ridge Regression: R2 = 0.8451\n",
            "SGD Regressor: R2 = 0.8444\n",
            "Bayesian Ridge Regression: R2 = 0.8451\n",
            "Bagging Regressor: R2 = 0.8451\n",
            "XGBoost Regressor: R2 = 0.8663\n",
            "[LightGBM] [Info] Auto-choosing col-wise multi-threading, the overhead of testing was 0.235419 seconds.\n",
            "You can set `force_col_wise=true` to remove the overhead.\n",
            "[LightGBM] [Info] Total Bins 1854\n",
            "[LightGBM] [Info] Number of data points in the train set: 894365, number of used features: 27\n",
            "[LightGBM] [Info] Start training from score 0.504465\n",
            "[LightGBM] [Info] Auto-choosing col-wise multi-threading, the overhead of testing was 0.409141 seconds.\n",
            "You can set `force_col_wise=true` to remove the overhead.\n",
            "[LightGBM] [Info] Total Bins 1862\n",
            "[LightGBM] [Info] Number of data points in the train set: 894365, number of used features: 27\n",
            "[LightGBM] [Info] Start training from score 0.504491\n",
            "[LightGBM] [Info] Auto-choosing col-wise multi-threading, the overhead of testing was 0.235717 seconds.\n",
            "You can set `force_col_wise=true` to remove the overhead.\n",
            "[LightGBM] [Info] Total Bins 1866\n",
            "[LightGBM] [Info] Number of data points in the train set: 894366, number of used features: 27\n",
            "[LightGBM] [Info] Start training from score 0.504485\n",
            "[LightGBM] [Info] Auto-choosing col-wise multi-threading, the overhead of testing was 0.280596 seconds.\n",
            "You can set `force_col_wise=true` to remove the overhead.\n",
            "[LightGBM] [Info] Total Bins 1860\n",
            "[LightGBM] [Info] Number of data points in the train set: 894366, number of used features: 27\n",
            "[LightGBM] [Info] Start training from score 0.504483\n",
            "[LightGBM] [Info] Auto-choosing col-wise multi-threading, the overhead of testing was 0.409734 seconds.\n",
            "You can set `force_col_wise=true` to remove the overhead.\n",
            "[LightGBM] [Info] Total Bins 1864\n",
            "[LightGBM] [Info] Number of data points in the train set: 894366, number of used features: 27\n",
            "[LightGBM] [Info] Start training from score 0.504477\n",
            "LightGBM Regressor: R2 = 0.8663\n"
          ]
        }
      ]
    },
    {
      "cell_type": "markdown",
      "source": [
        "Linear Regression: R2 = 0.8451 (이전 : 0.8450)  \n",
        "Ridge Regression: R2 = 0.8451 (이전 : 0.8450)   \n",
        "SGD Regressor: R2 = 0.8444 (이전 : 0.8068)  \n",
        "Bayesian Ridge Regression: R2 = 0.8451 (이전 : 0.8450)  \n",
        "Bagging Regressor: R2 = 0.8451 (이전 : 0.8449)  \n",
        "XGBoost Regressor: R2 = 0.8663 (이전 : 0.8137)  \n",
        "LightGBM Regressor: R2 = 0.8663 (이전 : 0.7876)  "
      ],
      "metadata": {
        "id": "gspe0QRkLBr4"
      }
    },
    {
      "cell_type": "code",
      "source": [
        "# test에도 적용\n",
        "test_simp = simplified_getFeats(test)"
      ],
      "metadata": {
        "id": "FHEc1e4qMtny"
      },
      "execution_count": 71,
      "outputs": []
    },
    {
      "cell_type": "code",
      "source": [
        "# test flood 예측 진행\n",
        "\n",
        "X_train = train_simp.drop(columns=['FloodProbability', 'id'])\n",
        "y_train = train_simp['FloodProbability']\n",
        "X_test = test_simp.drop(columns=['id'])"
      ],
      "metadata": {
        "id": "PuYkRLZJXoff"
      },
      "execution_count": 73,
      "outputs": []
    },
    {
      "cell_type": "code",
      "source": [
        "# LightGBM 모델 학습\n",
        "\n",
        "model_lgb = lgb.LGBMRegressor()\n",
        "model_lgb.fit(X_train, y_train)\n",
        "y_pred_lgb = model_lgb.predict(X_test)"
      ],
      "metadata": {
        "id": "tn2NkMZENMhJ",
        "outputId": "d3aae3b3-3454-4df9-a71b-3f2212e808ca",
        "colab": {
          "base_uri": "https://localhost:8080/"
        }
      },
      "execution_count": 74,
      "outputs": [
        {
          "output_type": "stream",
          "name": "stdout",
          "text": [
            "[LightGBM] [Info] Auto-choosing col-wise multi-threading, the overhead of testing was 1.048439 seconds.\n",
            "You can set `force_col_wise=true` to remove the overhead.\n",
            "[LightGBM] [Info] Total Bins 1857\n",
            "[LightGBM] [Info] Number of data points in the train set: 1117957, number of used features: 27\n",
            "[LightGBM] [Info] Start training from score 0.504480\n"
          ]
        }
      ]
    },
    {
      "cell_type": "code",
      "source": [
        "# 출력\n",
        "test_simp['FloodProbability'] = y_pred_lgb\n",
        "test_simp[['id', 'FloodProbability']].to_csv('submission2.csv', index=False)"
      ],
      "metadata": {
        "id": "R_zHW9P6Sstw"
      },
      "execution_count": 78,
      "outputs": []
    },
    {
      "cell_type": "markdown",
      "source": [
        "# 특성 엔지니어링 이후 제출 - 0.866"
      ],
      "metadata": {
        "id": "vh3YAiVWY00-"
      }
    }
  ]
}