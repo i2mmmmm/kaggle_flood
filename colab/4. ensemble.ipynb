{
  "nbformat": 4,
  "nbformat_minor": 0,
  "metadata": {
    "colab": {
      "provenance": [],
      "authorship_tag": "ABX9TyOWNjvwj/lVrq6kMvH0iYQR",
      "include_colab_link": true
    },
    "kernelspec": {
      "name": "python3",
      "display_name": "Python 3"
    },
    "language_info": {
      "name": "python"
    }
  },
  "cells": [
    {
      "cell_type": "markdown",
      "metadata": {
        "id": "view-in-github",
        "colab_type": "text"
      },
      "source": [
        "<a href=\"https://colab.research.google.com/github/i2mmmmm/kaggle_flood/blob/main/4.%20ensemble.ipynb\" target=\"_parent\"><img src=\"https://colab.research.google.com/assets/colab-badge.svg\" alt=\"Open In Colab\"/></a>"
      ]
    },
    {
      "cell_type": "code",
      "source": [
        "import os\n",
        "os.environ['KAGGLE_USERNAME']='mmmmmlee'\n",
        "os.environ['KAGGLE_KEY']='b4527f98e27813c6dae3fb199096dcb5'"
      ],
      "metadata": {
        "id": "fs6gowPQ409q"
      },
      "execution_count": 1,
      "outputs": []
    },
    {
      "cell_type": "code",
      "source": [
        "!kaggle competitions download -c Playground-series-s4e5"
      ],
      "metadata": {
        "colab": {
          "base_uri": "https://localhost:8080/"
        },
        "id": "l-Xevuva5hJF",
        "outputId": "3d76572f-eb77-4bcb-8833-8692f036083d"
      },
      "execution_count": 2,
      "outputs": [
        {
          "output_type": "stream",
          "name": "stdout",
          "text": [
            "Downloading Playground-series-s4e5.zip to /content\n",
            " 61% 17.0M/28.0M [00:00<00:00, 64.4MB/s]\n",
            "100% 28.0M/28.0M [00:00<00:00, 92.5MB/s]\n"
          ]
        }
      ]
    },
    {
      "cell_type": "code",
      "source": [
        "!unzip 'Playground-series-s4e5.zip'"
      ],
      "metadata": {
        "colab": {
          "base_uri": "https://localhost:8080/"
        },
        "id": "F3TOjJfH5tZc",
        "outputId": "77974325-6037-4890-e041-75eec8416d81"
      },
      "execution_count": 3,
      "outputs": [
        {
          "output_type": "stream",
          "name": "stdout",
          "text": [
            "Archive:  Playground-series-s4e5.zip\n",
            "  inflating: sample_submission.csv   \n",
            "  inflating: test.csv                \n",
            "  inflating: train.csv               \n"
          ]
        }
      ]
    },
    {
      "cell_type": "code",
      "source": [
        "import pandas as pd\n",
        "import numpy as np\n",
        "import seaborn as sns\n",
        "import matplotlib.pyplot as plt\n",
        "\n",
        "from sklearn.preprocessing import StandardScaler\n",
        "from sklearn.linear_model import LinearRegression\n",
        "from sklearn.model_selection import train_test_split\n",
        "from sklearn.metrics import mean_squared_error, r2_score\n",
        "\n",
        "from sklearn.ensemble import VotingRegressor, BaggingRegressor, StackingRegressor\n",
        "from sklearn.linear_model import BayesianRidge, SGDRegressor, Ridge\n",
        "from sklearn.model_selection import cross_val_score, KFold\n",
        "from sklearn.pipeline import make_pipeline\n",
        "import xgboost as xgb\n",
        "import lightgbm as lgb\n",
        "\n",
        "from keras.models import Sequential\n",
        "from keras.layers import Dense\n",
        "from tensorflow.keras.callbacks import EarlyStopping"
      ],
      "metadata": {
        "id": "387z09Uk6WPr"
      },
      "execution_count": 27,
      "outputs": []
    },
    {
      "cell_type": "code",
      "source": [
        "train = pd.read_csv('train.csv')\n",
        "test = pd.read_csv('test.csv')"
      ],
      "metadata": {
        "id": "vq29Kz8I76PP"
      },
      "execution_count": 7,
      "outputs": []
    },
    {
      "cell_type": "code",
      "source": [
        "# train 표준화, 스케일링\n",
        "scaler = StandardScaler()\n",
        "X = train.drop(columns=['FloodProbability', 'id'])\n",
        "y = train['FloodProbability']\n",
        "X_scaled = scaler.fit_transform(X)"
      ],
      "metadata": {
        "id": "MWnmqYIrNEiW"
      },
      "execution_count": 54,
      "outputs": []
    },
    {
      "cell_type": "code",
      "source": [
        "# 선형회귀_baseline\n",
        "\n",
        "X_train, X_test, y_train, y_test = train_test_split(X_scaled, y, test_size=0.2, random_state=35)\n",
        "model = LinearRegression()\n",
        "model.fit(X_train, y_train)\n",
        "y_pred = model.predict(X_test)\n",
        "\n",
        "print('R2 Score:', r2_score(y_test, y_pred))\n",
        "print('MSE:', mean_squared_error(y_test, y_pred))"
      ],
      "metadata": {
        "colab": {
          "base_uri": "https://localhost:8080/"
        },
        "id": "tZM072ebOAAk",
        "outputId": "5bb1e7c9-ec6a-4ae1-dd70-bcfbf3fc3771"
      },
      "execution_count": 55,
      "outputs": [
        {
          "output_type": "stream",
          "name": "stdout",
          "text": [
            "R2 Score: 0.8449835489068076\n",
            "MSE: 0.00040395088979260915\n"
          ]
        }
      ]
    },
    {
      "cell_type": "code",
      "source": [
        "# 다시 feature engineering\n",
        "train = pd.read_csv('train.csv')\n",
        "\n",
        "def simplified_getFeats(df):\n",
        "    num_cols = ['MonsoonIntensity', 'TopographyDrainage', 'RiverManagement', 'Deforestation', 'Urbanization', 'ClimateChange', 'DamsQuality', 'Siltation', 'AgriculturalPractices', 'Encroachments', 'IneffectiveDisasterPreparedness', 'DrainageSystems', 'CoastalVulnerability', 'Landslides', 'Watersheds', 'DeterioratingInfrastructure', 'PopulationScore', 'WetlandLoss', 'InadequatePlanning', 'PoliticalFactors']\n",
        "\n",
        "    scaler = StandardScaler().fit(df[num_cols])\n",
        "    df[num_cols] = scaler.transform(df[num_cols])  # Scale early\n",
        "\n",
        "    # Basic Stats\n",
        "    df['mean'] = df[num_cols].mean(axis=1)\n",
        "    df['std'] = df[num_cols].std(axis=1)\n",
        "    df['max'] = df[num_cols].max(axis=1)\n",
        "    df['min'] = df[num_cols].min(axis=1)\n",
        "\n",
        "    # Interaction Features (Simplified)\n",
        "    df['Climate_Risk'] = df['MonsoonIntensity'] * df['ClimateChange']\n",
        "    df['Infrastructure_Risk'] = df['DamsQuality'] * df['DrainageSystems']\n",
        "    df['wet_Risk'] = df['WetlandLoss'] * df['Encroachments']\n",
        "\n",
        "    return df\n",
        "\n",
        "train_simp = simplified_getFeats(train)\n",
        "\n",
        "X = train_simp.drop(columns=['FloodProbability', 'id'])\n",
        "y = train_simp['FloodProbability']"
      ],
      "metadata": {
        "id": "mQlKyqBzEBvf"
      },
      "execution_count": 22,
      "outputs": []
    },
    {
      "cell_type": "code",
      "source": [
        "# 훈련, 검증, 테스트 데이터 나누기\n",
        "X_train, X_temp, y_train, y_temp = train_test_split(X, y, test_size=0.3, random_state=35)\n",
        "X_val, X_test, y_val, y_test = train_test_split(X_temp, y_temp, test_size=0.5, random_state=35)\n",
        "\n",
        "# 모델 설계\n",
        "model = Sequential()\n",
        "model.add(Dense(64, activation='relu', input_shape=(X_train.shape[1],)))\n",
        "model.add(Dense(32, activation='relu'))\n",
        "model.add(Dense(1))  # 출력 뉴런 하나 (홍수 발생 가능성)\n",
        "\n",
        "# 모델 컴파일\n",
        "model.compile(optimizer='adam', loss='mse', metrics=['mae'])\n",
        "\n",
        "# EarlyStopping 콜백 설정\n",
        "early_stopping = EarlyStopping(monitor='val_loss', patience=10, restore_best_weights=True)\n",
        "\n",
        "# 모델 훈련\n",
        "history = model.fit(X_train, y_train, epochs=50, batch_size=32, validation_data=(X_val, y_val))\n",
        "\n",
        "# 모델 평가\n",
        "loss, mae = model.evaluate(X_test, y_test)\n",
        "print(\"Test Loss:\", loss)\n",
        "print(\"Test MAE:\", mae)"
      ],
      "metadata": {
        "id": "KXFhuLdrDQdu",
        "outputId": "10ad31e5-9506-429a-dfd1-682463a82d52",
        "colab": {
          "base_uri": "https://localhost:8080/"
        }
      },
      "execution_count": 28,
      "outputs": [
        {
          "output_type": "stream",
          "name": "stdout",
          "text": [
            "Epoch 1/50\n",
            "24456/24456 [==============================] - 70s 3ms/step - loss: 9.5578e-04 - mae: 0.0188 - val_loss: 4.4206e-04 - val_mae: 0.0173\n",
            "Epoch 2/50\n",
            "24456/24456 [==============================] - 56s 2ms/step - loss: 3.7532e-04 - mae: 0.0153 - val_loss: 3.6232e-04 - val_mae: 0.0150\n",
            "Epoch 3/50\n",
            "24456/24456 [==============================] - 58s 2ms/step - loss: 3.7033e-04 - mae: 0.0152 - val_loss: 3.6018e-04 - val_mae: 0.0150\n",
            "Epoch 4/50\n",
            "24456/24456 [==============================] - 59s 2ms/step - loss: 3.6829e-04 - mae: 0.0151 - val_loss: 3.6000e-04 - val_mae: 0.0151\n",
            "Epoch 5/50\n",
            "24456/24456 [==============================] - 59s 2ms/step - loss: 3.6758e-04 - mae: 0.0151 - val_loss: 3.6595e-04 - val_mae: 0.0153\n",
            "Epoch 6/50\n",
            "24456/24456 [==============================] - 56s 2ms/step - loss: 3.6771e-04 - mae: 0.0151 - val_loss: 3.6651e-04 - val_mae: 0.0153\n",
            "Epoch 7/50\n",
            "24456/24456 [==============================] - 57s 2ms/step - loss: 3.6670e-04 - mae: 0.0151 - val_loss: 3.6466e-04 - val_mae: 0.0153\n",
            "Epoch 8/50\n",
            "24456/24456 [==============================] - 53s 2ms/step - loss: 3.6629e-04 - mae: 0.0151 - val_loss: 3.6277e-04 - val_mae: 0.0151\n",
            "Epoch 9/50\n",
            "24456/24456 [==============================] - 59s 2ms/step - loss: 3.6579e-04 - mae: 0.0151 - val_loss: 3.6131e-04 - val_mae: 0.0150\n",
            "Epoch 10/50\n",
            "24456/24456 [==============================] - 54s 2ms/step - loss: 3.6549e-04 - mae: 0.0151 - val_loss: 3.6658e-04 - val_mae: 0.0152\n",
            "Epoch 11/50\n",
            "24456/24456 [==============================] - 57s 2ms/step - loss: 3.6565e-04 - mae: 0.0151 - val_loss: 3.7270e-04 - val_mae: 0.0156\n",
            "Epoch 12/50\n",
            "24456/24456 [==============================] - 53s 2ms/step - loss: 3.6550e-04 - mae: 0.0151 - val_loss: 3.6042e-04 - val_mae: 0.0149\n",
            "Epoch 13/50\n",
            "24456/24456 [==============================] - 55s 2ms/step - loss: 3.6563e-04 - mae: 0.0151 - val_loss: 3.6347e-04 - val_mae: 0.0152\n",
            "Epoch 14/50\n",
            "24456/24456 [==============================] - 57s 2ms/step - loss: 3.6566e-04 - mae: 0.0151 - val_loss: 3.5979e-04 - val_mae: 0.0151\n",
            "Epoch 15/50\n",
            "24456/24456 [==============================] - 57s 2ms/step - loss: 3.6544e-04 - mae: 0.0151 - val_loss: 3.6681e-04 - val_mae: 0.0152\n",
            "Epoch 16/50\n",
            "24456/24456 [==============================] - 58s 2ms/step - loss: 3.6583e-04 - mae: 0.0151 - val_loss: 3.6591e-04 - val_mae: 0.0150\n",
            "Epoch 17/50\n",
            "24456/24456 [==============================] - 60s 2ms/step - loss: 3.6553e-04 - mae: 0.0151 - val_loss: 3.6627e-04 - val_mae: 0.0153\n",
            "Epoch 18/50\n",
            "24456/24456 [==============================] - 55s 2ms/step - loss: 3.6563e-04 - mae: 0.0151 - val_loss: 3.6172e-04 - val_mae: 0.0150\n",
            "Epoch 19/50\n",
            "24456/24456 [==============================] - 58s 2ms/step - loss: 3.6568e-04 - mae: 0.0151 - val_loss: 3.6357e-04 - val_mae: 0.0151\n",
            "Epoch 20/50\n",
            "24456/24456 [==============================] - 59s 2ms/step - loss: 3.6550e-04 - mae: 0.0151 - val_loss: 3.6052e-04 - val_mae: 0.0149\n",
            "Epoch 21/50\n",
            "24456/24456 [==============================] - 58s 2ms/step - loss: 3.6537e-04 - mae: 0.0151 - val_loss: 3.6023e-04 - val_mae: 0.0150\n",
            "Epoch 22/50\n",
            "24456/24456 [==============================] - 53s 2ms/step - loss: 3.6550e-04 - mae: 0.0151 - val_loss: 3.6127e-04 - val_mae: 0.0151\n",
            "Epoch 23/50\n",
            "24456/24456 [==============================] - 59s 2ms/step - loss: 3.6552e-04 - mae: 0.0151 - val_loss: 3.6163e-04 - val_mae: 0.0150\n",
            "Epoch 24/50\n",
            "24456/24456 [==============================] - 59s 2ms/step - loss: 3.6547e-04 - mae: 0.0151 - val_loss: 3.6475e-04 - val_mae: 0.0150\n",
            "Epoch 25/50\n",
            "24456/24456 [==============================] - 54s 2ms/step - loss: 3.6550e-04 - mae: 0.0151 - val_loss: 3.6978e-04 - val_mae: 0.0149\n",
            "Epoch 26/50\n",
            "24456/24456 [==============================] - 57s 2ms/step - loss: 3.6543e-04 - mae: 0.0151 - val_loss: 3.6889e-04 - val_mae: 0.0149\n",
            "Epoch 27/50\n",
            "24456/24456 [==============================] - 57s 2ms/step - loss: 3.6540e-04 - mae: 0.0151 - val_loss: 3.6150e-04 - val_mae: 0.0150\n",
            "Epoch 28/50\n",
            "24456/24456 [==============================] - 57s 2ms/step - loss: 3.6559e-04 - mae: 0.0151 - val_loss: 3.6159e-04 - val_mae: 0.0151\n",
            "Epoch 29/50\n",
            "24456/24456 [==============================] - 57s 2ms/step - loss: 3.6522e-04 - mae: 0.0151 - val_loss: 3.7841e-04 - val_mae: 0.0151\n",
            "Epoch 30/50\n",
            "24456/24456 [==============================] - 57s 2ms/step - loss: 3.6552e-04 - mae: 0.0151 - val_loss: 3.6815e-04 - val_mae: 0.0149\n",
            "Epoch 31/50\n",
            "24456/24456 [==============================] - 53s 2ms/step - loss: 3.6541e-04 - mae: 0.0151 - val_loss: 3.7242e-04 - val_mae: 0.0155\n",
            "Epoch 32/50\n",
            "24456/24456 [==============================] - 60s 2ms/step - loss: 3.6538e-04 - mae: 0.0151 - val_loss: 3.6013e-04 - val_mae: 0.0151\n",
            "Epoch 33/50\n",
            "24456/24456 [==============================] - 54s 2ms/step - loss: 3.6558e-04 - mae: 0.0151 - val_loss: 3.7343e-04 - val_mae: 0.0149\n",
            "Epoch 34/50\n",
            "24456/24456 [==============================] - 54s 2ms/step - loss: 3.6547e-04 - mae: 0.0151 - val_loss: 3.5999e-04 - val_mae: 0.0150\n",
            "Epoch 35/50\n",
            "24456/24456 [==============================] - 57s 2ms/step - loss: 3.6534e-04 - mae: 0.0151 - val_loss: 3.6273e-04 - val_mae: 0.0149\n",
            "Epoch 36/50\n",
            "24456/24456 [==============================] - 58s 2ms/step - loss: 3.6528e-04 - mae: 0.0151 - val_loss: 3.6071e-04 - val_mae: 0.0150\n",
            "Epoch 37/50\n",
            "24456/24456 [==============================] - 58s 2ms/step - loss: 3.6523e-04 - mae: 0.0151 - val_loss: 3.6102e-04 - val_mae: 0.0150\n",
            "Epoch 38/50\n",
            "24456/24456 [==============================] - 58s 2ms/step - loss: 3.6554e-04 - mae: 0.0151 - val_loss: 3.6815e-04 - val_mae: 0.0150\n",
            "Epoch 39/50\n",
            "24456/24456 [==============================] - 53s 2ms/step - loss: 3.6518e-04 - mae: 0.0151 - val_loss: 3.7060e-04 - val_mae: 0.0155\n",
            "Epoch 40/50\n",
            "24456/24456 [==============================] - 57s 2ms/step - loss: 3.6527e-04 - mae: 0.0151 - val_loss: 3.8692e-04 - val_mae: 0.0150\n",
            "Epoch 41/50\n",
            "24456/24456 [==============================] - 59s 2ms/step - loss: 3.6512e-04 - mae: 0.0151 - val_loss: 3.6079e-04 - val_mae: 0.0151\n",
            "Epoch 42/50\n",
            "24456/24456 [==============================] - 55s 2ms/step - loss: 3.6532e-04 - mae: 0.0151 - val_loss: 3.6274e-04 - val_mae: 0.0149\n",
            "Epoch 43/50\n",
            "24456/24456 [==============================] - 57s 2ms/step - loss: 3.6547e-04 - mae: 0.0151 - val_loss: 3.6122e-04 - val_mae: 0.0148\n",
            "Epoch 44/50\n",
            "24456/24456 [==============================] - 57s 2ms/step - loss: 3.6550e-04 - mae: 0.0151 - val_loss: 3.6005e-04 - val_mae: 0.0149\n",
            "Epoch 45/50\n",
            "24456/24456 [==============================] - 57s 2ms/step - loss: 3.6519e-04 - mae: 0.0151 - val_loss: 3.6375e-04 - val_mae: 0.0150\n",
            "Epoch 46/50\n",
            "24456/24456 [==============================] - 51s 2ms/step - loss: 3.6533e-04 - mae: 0.0151 - val_loss: 3.6368e-04 - val_mae: 0.0152\n",
            "Epoch 47/50\n",
            "24456/24456 [==============================] - 57s 2ms/step - loss: 3.6552e-04 - mae: 0.0151 - val_loss: 3.6142e-04 - val_mae: 0.0150\n",
            "Epoch 48/50\n",
            "24456/24456 [==============================] - 57s 2ms/step - loss: 3.6533e-04 - mae: 0.0151 - val_loss: 3.6770e-04 - val_mae: 0.0153\n",
            "Epoch 49/50\n",
            "24456/24456 [==============================] - 53s 2ms/step - loss: 3.6537e-04 - mae: 0.0151 - val_loss: 3.6696e-04 - val_mae: 0.0152\n",
            "Epoch 50/50\n",
            "24456/24456 [==============================] - 60s 2ms/step - loss: 3.6525e-04 - mae: 0.0151 - val_loss: 3.6064e-04 - val_mae: 0.0151\n",
            "5241/5241 [==============================] - 20s 4ms/step - loss: 3.6170e-04 - mae: 0.0151\n",
            "Test Loss: 0.0003616958565544337\n",
            "Test MAE: 0.015108580701053143\n"
          ]
        }
      ]
    },
    {
      "cell_type": "code",
      "source": [
        "# test에도 적용\n",
        "test = pd.read_csv('test.csv')\n",
        "test_simp = simplified_getFeats(test)\n"
      ],
      "metadata": {
        "id": "FHEc1e4qMtny"
      },
      "execution_count": 32,
      "outputs": []
    },
    {
      "cell_type": "code",
      "source": [
        "# test_simp 데이터셋에서 id를 제외한 특성만 사용하여 예측\n",
        "X_test_simp = test_simp.drop(columns=['id'])\n",
        "y_pred_simp = model.predict(X_test_simp)\n",
        "\n",
        "# 예측 결과를 DataFrame으로 저장\n",
        "predictions = pd.DataFrame({'id': test_simp['id'], 'PredictedFloodProbability': y_pred_simp.flatten()})\n",
        "\n",
        "# 예측 결과 출력\n",
        "print(predictions.head())"
      ],
      "metadata": {
        "id": "aM-XBOppnvXq",
        "outputId": "22013b39-1ffd-435d-bd6d-6afd2e6ac035",
        "colab": {
          "base_uri": "https://localhost:8080/"
        }
      },
      "execution_count": 33,
      "outputs": [
        {
          "output_type": "stream",
          "name": "stdout",
          "text": [
            "23291/23291 [==============================] - 34s 1ms/step\n",
            "        id  PredictedFloodProbability\n",
            "0  1117957                   0.577113\n",
            "1  1117958                   0.455221\n",
            "2  1117959                   0.450350\n",
            "3  1117960                   0.469356\n",
            "4  1117961                   0.469919\n"
          ]
        }
      ]
    },
    {
      "cell_type": "code",
      "source": [
        "predictions.to_csv('submission_MLP.csv', index=False)"
      ],
      "metadata": {
        "id": "1zQhOvY3pLe9"
      },
      "execution_count": 34,
      "outputs": []
    },
    {
      "cell_type": "code",
      "source": [
        "# test flood 예측 진행\n",
        "\n",
        "X_train = train_simp.drop(columns=['FloodProbability', 'id'])\n",
        "y_train = train_simp['FloodProbability']\n",
        "X_test = test_simp.drop(columns=['id'])"
      ],
      "metadata": {
        "id": "PuYkRLZJXoff"
      },
      "execution_count": 24,
      "outputs": []
    },
    {
      "cell_type": "code",
      "source": [
        "# 모델 설계\n",
        "model = Sequential()\n",
        "model.add(Dense(64, activation='relu', input_shape=(X_train.shape[1],)))\n",
        "model.add(Dense(32, activation='relu'))\n",
        "model.add(Dense(1))  # 출력 뉴런 하나 (홍수 발생 가능성)\n",
        "\n",
        "# 모델 컴파일\n",
        "model.compile(optimizer='adam', loss='mse', metrics=['mae'])\n",
        "\n",
        "# EarlyStopping 콜백 설정\n",
        "early_stopping = EarlyStopping(monitor='val_loss', patience=10, restore_best_weights=True)\n",
        "\n",
        "# 모델 훈련\n",
        "history = model.fit(X_train, y_train, epochs=50, batch_size=32, validation_data=(X_val, y_val))"
      ],
      "metadata": {
        "id": "1Gr-HWdPUg6h"
      },
      "execution_count": null,
      "outputs": []
    },
    {
      "cell_type": "code",
      "source": [
        "# LightGBM 모델 학습\n",
        "\n",
        "lgbm_params = {\n",
        "    'num_leaves': 183,\n",
        "    'learning_rate': 0.01183688880802108,\n",
        "    'n_estimators': 577,\n",
        "    'subsample_for_bin': 165697,\n",
        "    'min_child_samples': 114,\n",
        "    'reg_alpha': 2.075080888948164e-06,\n",
        "    'reg_lambda': 3.838938366471552e-07,\n",
        "    'colsample_bytree': 0.9634044234652241,\n",
        "    'subsample': 0.9592138618622019,\n",
        "    'max_depth': 9\n",
        "}\n",
        "\n",
        "model_lgb = lgb.LGBMRegressor(**lgbm_params)\n",
        "model_lgb.fit(X_train, y_train)\n",
        "y_pred_lgb = model_lgb.predict(X_test)"
      ],
      "metadata": {
        "colab": {
          "base_uri": "https://localhost:8080/"
        },
        "id": "tn2NkMZENMhJ",
        "outputId": "cbd5b5c7-f539-4fe9-de31-8de24a8a3233"
      },
      "execution_count": 15,
      "outputs": [
        {
          "output_type": "stream",
          "name": "stdout",
          "text": [
            "[LightGBM] [Info] Auto-choosing col-wise multi-threading, the overhead of testing was 0.487907 seconds.\n",
            "You can set `force_col_wise=true` to remove the overhead.\n",
            "[LightGBM] [Info] Total Bins 1843\n",
            "[LightGBM] [Info] Number of data points in the train set: 1117957, number of used features: 27\n",
            "[LightGBM] [Info] Start training from score 0.504480\n",
            "[LightGBM] [Warning] No further splits with positive gain, best gain: -inf\n",
            "[LightGBM] [Warning] No further splits with positive gain, best gain: -inf\n",
            "[LightGBM] [Warning] No further splits with positive gain, best gain: -inf\n",
            "[LightGBM] [Warning] No further splits with positive gain, best gain: -inf\n",
            "[LightGBM] [Warning] No further splits with positive gain, best gain: -inf\n",
            "[LightGBM] [Warning] No further splits with positive gain, best gain: -inf\n",
            "[LightGBM] [Warning] No further splits with positive gain, best gain: -inf\n",
            "[LightGBM] [Warning] No further splits with positive gain, best gain: -inf\n",
            "[LightGBM] [Warning] No further splits with positive gain, best gain: -inf\n",
            "[LightGBM] [Warning] No further splits with positive gain, best gain: -inf\n",
            "[LightGBM] [Warning] No further splits with positive gain, best gain: -inf\n",
            "[LightGBM] [Warning] No further splits with positive gain, best gain: -inf\n",
            "[LightGBM] [Warning] No further splits with positive gain, best gain: -inf\n",
            "[LightGBM] [Warning] No further splits with positive gain, best gain: -inf\n",
            "[LightGBM] [Warning] No further splits with positive gain, best gain: -inf\n",
            "[LightGBM] [Warning] No further splits with positive gain, best gain: -inf\n",
            "[LightGBM] [Warning] No further splits with positive gain, best gain: -inf\n",
            "[LightGBM] [Warning] No further splits with positive gain, best gain: -inf\n",
            "[LightGBM] [Warning] No further splits with positive gain, best gain: -inf\n",
            "[LightGBM] [Warning] No further splits with positive gain, best gain: -inf\n",
            "[LightGBM] [Warning] No further splits with positive gain, best gain: -inf\n",
            "[LightGBM] [Warning] No further splits with positive gain, best gain: -inf\n",
            "[LightGBM] [Warning] No further splits with positive gain, best gain: -inf\n",
            "[LightGBM] [Warning] No further splits with positive gain, best gain: -inf\n",
            "[LightGBM] [Warning] No further splits with positive gain, best gain: -inf\n",
            "[LightGBM] [Warning] No further splits with positive gain, best gain: -inf\n",
            "[LightGBM] [Warning] No further splits with positive gain, best gain: -inf\n",
            "[LightGBM] [Warning] No further splits with positive gain, best gain: -inf\n",
            "[LightGBM] [Warning] No further splits with positive gain, best gain: -inf\n",
            "[LightGBM] [Warning] No further splits with positive gain, best gain: -inf\n",
            "[LightGBM] [Warning] No further splits with positive gain, best gain: -inf\n",
            "[LightGBM] [Warning] No further splits with positive gain, best gain: -inf\n",
            "[LightGBM] [Warning] No further splits with positive gain, best gain: -inf\n",
            "[LightGBM] [Warning] No further splits with positive gain, best gain: -inf\n",
            "[LightGBM] [Warning] No further splits with positive gain, best gain: -inf\n",
            "[LightGBM] [Warning] No further splits with positive gain, best gain: -inf\n",
            "[LightGBM] [Warning] No further splits with positive gain, best gain: -inf\n",
            "[LightGBM] [Warning] No further splits with positive gain, best gain: -inf\n",
            "[LightGBM] [Warning] No further splits with positive gain, best gain: -inf\n",
            "[LightGBM] [Warning] No further splits with positive gain, best gain: -inf\n",
            "[LightGBM] [Warning] No further splits with positive gain, best gain: -inf\n",
            "[LightGBM] [Warning] No further splits with positive gain, best gain: -inf\n",
            "[LightGBM] [Warning] No further splits with positive gain, best gain: -inf\n",
            "[LightGBM] [Warning] No further splits with positive gain, best gain: -inf\n",
            "[LightGBM] [Warning] No further splits with positive gain, best gain: -inf\n",
            "[LightGBM] [Warning] No further splits with positive gain, best gain: -inf\n",
            "[LightGBM] [Warning] No further splits with positive gain, best gain: -inf\n",
            "[LightGBM] [Warning] No further splits with positive gain, best gain: -inf\n",
            "[LightGBM] [Warning] No further splits with positive gain, best gain: -inf\n",
            "[LightGBM] [Warning] No further splits with positive gain, best gain: -inf\n",
            "[LightGBM] [Warning] No further splits with positive gain, best gain: -inf\n",
            "[LightGBM] [Warning] No further splits with positive gain, best gain: -inf\n",
            "[LightGBM] [Warning] No further splits with positive gain, best gain: -inf\n",
            "[LightGBM] [Warning] No further splits with positive gain, best gain: -inf\n",
            "[LightGBM] [Warning] No further splits with positive gain, best gain: -inf\n",
            "[LightGBM] [Warning] No further splits with positive gain, best gain: -inf\n",
            "[LightGBM] [Warning] No further splits with positive gain, best gain: -inf\n",
            "[LightGBM] [Warning] No further splits with positive gain, best gain: -inf\n"
          ]
        }
      ]
    },
    {
      "cell_type": "code",
      "source": [
        "# 출력\n",
        "test_simp['FloodProbability'] = y_pred_lgb\n",
        "test_simp[['id', 'FloodProbability']].to_csv('submission_engi_lgb_para.csv', index=False)"
      ],
      "metadata": {
        "id": "R_zHW9P6Sstw"
      },
      "execution_count": 16,
      "outputs": []
    },
    {
      "cell_type": "markdown",
      "source": [
        "# 특성 엔지니어링 이후 제출 - 0.866"
      ],
      "metadata": {
        "id": "vh3YAiVWY00-"
      }
    },
    {
      "cell_type": "code",
      "source": [
        "sub1 = pd.read_csv('submission (1).csv')\n",
        "sub2 = pd.read_csv('submission (2).csv')\n",
        "sub3 = pd.read_csv('submission (3).csv')\n",
        "\n",
        "print(sub1.head())\n",
        "print(sub2.head())\n",
        "print(sub3.head())"
      ],
      "metadata": {
        "id": "sIry6fPJrhQi",
        "outputId": "419a0287-092a-42f3-9d09-5b915fab1aee",
        "colab": {
          "base_uri": "https://localhost:8080/"
        }
      },
      "execution_count": 44,
      "outputs": [
        {
          "output_type": "stream",
          "name": "stdout",
          "text": [
            "        id  FloodProbability\n",
            "0  1117957          0.578705\n",
            "1  1117958          0.454723\n",
            "2  1117959          0.448682\n",
            "3  1117960          0.467035\n",
            "4  1117961          0.465906\n",
            "        id  FloodProbability\n",
            "0  1117957          0.577933\n",
            "1  1117958          0.456926\n",
            "2  1117959          0.447441\n",
            "3  1117960          0.464352\n",
            "4  1117961          0.466865\n",
            "        id  FloodProbability\n",
            "0  1117957          0.578782\n",
            "1  1117958          0.454955\n",
            "2  1117959          0.448574\n",
            "3  1117960          0.466518\n",
            "4  1117961          0.466017\n"
          ]
        }
      ]
    },
    {
      "cell_type": "code",
      "source": [
        "sub5 = pd.read_csv('submission_MLP.csv')"
      ],
      "metadata": {
        "id": "tQDTiHMJyWCc"
      },
      "execution_count": 59,
      "outputs": []
    },
    {
      "cell_type": "code",
      "source": [
        "sub1"
      ],
      "metadata": {
        "id": "OlHUUhx7yjg7",
        "outputId": "c011053e-8dd6-4a8e-fb9f-412c244d92b5",
        "colab": {
          "base_uri": "https://localhost:8080/",
          "height": 423
        }
      },
      "execution_count": 69,
      "outputs": [
        {
          "output_type": "execute_result",
          "data": {
            "text/plain": [
              "             id  FloodProbability         a         b         c         d  \\\n",
              "0       1117957          0.578705  0.577933  0.578782  0.577174  0.577113   \n",
              "1       1117958          0.454723  0.456926  0.454955  0.454428  0.455221   \n",
              "2       1117959          0.448682  0.447441  0.448574  0.450117  0.450350   \n",
              "3       1117960          0.467035  0.464352  0.466518  0.466850  0.469356   \n",
              "4       1117961          0.465906  0.466865  0.466017  0.467364  0.469919   \n",
              "...         ...               ...       ...       ...       ...       ...   \n",
              "745300  1863257          0.476473  0.475038  0.475655  0.477278  0.475582   \n",
              "745301  1863258          0.441803  0.442251  0.442204  0.443863  0.446894   \n",
              "745302  1863259          0.622910  0.622623  0.621720  0.622035  0.624680   \n",
              "745303  1863260          0.548660  0.548482  0.548708  0.549549  0.553482   \n",
              "745304  1863261          0.530882  0.529324  0.530385  0.529234  0.528057   \n",
              "\n",
              "        ensemble  ensemble2  \n",
              "0       0.578473   0.578937  \n",
              "1       0.455535   0.453912  \n",
              "2       0.448232   0.449132  \n",
              "3       0.465968   0.468103  \n",
              "4       0.466263   0.465550  \n",
              "...          ...        ...  \n",
              "745300  0.475722   0.477223  \n",
              "745301  0.442086   0.441521  \n",
              "745302  0.622418   0.623402  \n",
              "745303  0.548617   0.548703  \n",
              "745304  0.530197   0.531567  \n",
              "\n",
              "[745305 rows x 8 columns]"
            ],
            "text/html": [
              "\n",
              "  <div id=\"df-1aa7de97-de86-4713-a04f-b35dbd0364bf\" class=\"colab-df-container\">\n",
              "    <div>\n",
              "<style scoped>\n",
              "    .dataframe tbody tr th:only-of-type {\n",
              "        vertical-align: middle;\n",
              "    }\n",
              "\n",
              "    .dataframe tbody tr th {\n",
              "        vertical-align: top;\n",
              "    }\n",
              "\n",
              "    .dataframe thead th {\n",
              "        text-align: right;\n",
              "    }\n",
              "</style>\n",
              "<table border=\"1\" class=\"dataframe\">\n",
              "  <thead>\n",
              "    <tr style=\"text-align: right;\">\n",
              "      <th></th>\n",
              "      <th>id</th>\n",
              "      <th>FloodProbability</th>\n",
              "      <th>a</th>\n",
              "      <th>b</th>\n",
              "      <th>c</th>\n",
              "      <th>d</th>\n",
              "      <th>ensemble</th>\n",
              "      <th>ensemble2</th>\n",
              "    </tr>\n",
              "  </thead>\n",
              "  <tbody>\n",
              "    <tr>\n",
              "      <th>0</th>\n",
              "      <td>1117957</td>\n",
              "      <td>0.578705</td>\n",
              "      <td>0.577933</td>\n",
              "      <td>0.578782</td>\n",
              "      <td>0.577174</td>\n",
              "      <td>0.577113</td>\n",
              "      <td>0.578473</td>\n",
              "      <td>0.578937</td>\n",
              "    </tr>\n",
              "    <tr>\n",
              "      <th>1</th>\n",
              "      <td>1117958</td>\n",
              "      <td>0.454723</td>\n",
              "      <td>0.456926</td>\n",
              "      <td>0.454955</td>\n",
              "      <td>0.454428</td>\n",
              "      <td>0.455221</td>\n",
              "      <td>0.455535</td>\n",
              "      <td>0.453912</td>\n",
              "    </tr>\n",
              "    <tr>\n",
              "      <th>2</th>\n",
              "      <td>1117959</td>\n",
              "      <td>0.448682</td>\n",
              "      <td>0.447441</td>\n",
              "      <td>0.448574</td>\n",
              "      <td>0.450117</td>\n",
              "      <td>0.450350</td>\n",
              "      <td>0.448232</td>\n",
              "      <td>0.449132</td>\n",
              "    </tr>\n",
              "    <tr>\n",
              "      <th>3</th>\n",
              "      <td>1117960</td>\n",
              "      <td>0.467035</td>\n",
              "      <td>0.464352</td>\n",
              "      <td>0.466518</td>\n",
              "      <td>0.466850</td>\n",
              "      <td>0.469356</td>\n",
              "      <td>0.465968</td>\n",
              "      <td>0.468103</td>\n",
              "    </tr>\n",
              "    <tr>\n",
              "      <th>4</th>\n",
              "      <td>1117961</td>\n",
              "      <td>0.465906</td>\n",
              "      <td>0.466865</td>\n",
              "      <td>0.466017</td>\n",
              "      <td>0.467364</td>\n",
              "      <td>0.469919</td>\n",
              "      <td>0.466263</td>\n",
              "      <td>0.465550</td>\n",
              "    </tr>\n",
              "    <tr>\n",
              "      <th>...</th>\n",
              "      <td>...</td>\n",
              "      <td>...</td>\n",
              "      <td>...</td>\n",
              "      <td>...</td>\n",
              "      <td>...</td>\n",
              "      <td>...</td>\n",
              "      <td>...</td>\n",
              "      <td>...</td>\n",
              "    </tr>\n",
              "    <tr>\n",
              "      <th>745300</th>\n",
              "      <td>1863257</td>\n",
              "      <td>0.476473</td>\n",
              "      <td>0.475038</td>\n",
              "      <td>0.475655</td>\n",
              "      <td>0.477278</td>\n",
              "      <td>0.475582</td>\n",
              "      <td>0.475722</td>\n",
              "      <td>0.477223</td>\n",
              "    </tr>\n",
              "    <tr>\n",
              "      <th>745301</th>\n",
              "      <td>1863258</td>\n",
              "      <td>0.441803</td>\n",
              "      <td>0.442251</td>\n",
              "      <td>0.442204</td>\n",
              "      <td>0.443863</td>\n",
              "      <td>0.446894</td>\n",
              "      <td>0.442086</td>\n",
              "      <td>0.441521</td>\n",
              "    </tr>\n",
              "    <tr>\n",
              "      <th>745302</th>\n",
              "      <td>1863259</td>\n",
              "      <td>0.622910</td>\n",
              "      <td>0.622623</td>\n",
              "      <td>0.621720</td>\n",
              "      <td>0.622035</td>\n",
              "      <td>0.624680</td>\n",
              "      <td>0.622418</td>\n",
              "      <td>0.623402</td>\n",
              "    </tr>\n",
              "    <tr>\n",
              "      <th>745303</th>\n",
              "      <td>1863260</td>\n",
              "      <td>0.548660</td>\n",
              "      <td>0.548482</td>\n",
              "      <td>0.548708</td>\n",
              "      <td>0.549549</td>\n",
              "      <td>0.553482</td>\n",
              "      <td>0.548617</td>\n",
              "      <td>0.548703</td>\n",
              "    </tr>\n",
              "    <tr>\n",
              "      <th>745304</th>\n",
              "      <td>1863261</td>\n",
              "      <td>0.530882</td>\n",
              "      <td>0.529324</td>\n",
              "      <td>0.530385</td>\n",
              "      <td>0.529234</td>\n",
              "      <td>0.528057</td>\n",
              "      <td>0.530197</td>\n",
              "      <td>0.531567</td>\n",
              "    </tr>\n",
              "  </tbody>\n",
              "</table>\n",
              "<p>745305 rows × 8 columns</p>\n",
              "</div>\n",
              "    <div class=\"colab-df-buttons\">\n",
              "\n",
              "  <div class=\"colab-df-container\">\n",
              "    <button class=\"colab-df-convert\" onclick=\"convertToInteractive('df-1aa7de97-de86-4713-a04f-b35dbd0364bf')\"\n",
              "            title=\"Convert this dataframe to an interactive table.\"\n",
              "            style=\"display:none;\">\n",
              "\n",
              "  <svg xmlns=\"http://www.w3.org/2000/svg\" height=\"24px\" viewBox=\"0 -960 960 960\">\n",
              "    <path d=\"M120-120v-720h720v720H120Zm60-500h600v-160H180v160Zm220 220h160v-160H400v160Zm0 220h160v-160H400v160ZM180-400h160v-160H180v160Zm440 0h160v-160H620v160ZM180-180h160v-160H180v160Zm440 0h160v-160H620v160Z\"/>\n",
              "  </svg>\n",
              "    </button>\n",
              "\n",
              "  <style>\n",
              "    .colab-df-container {\n",
              "      display:flex;\n",
              "      gap: 12px;\n",
              "    }\n",
              "\n",
              "    .colab-df-convert {\n",
              "      background-color: #E8F0FE;\n",
              "      border: none;\n",
              "      border-radius: 50%;\n",
              "      cursor: pointer;\n",
              "      display: none;\n",
              "      fill: #1967D2;\n",
              "      height: 32px;\n",
              "      padding: 0 0 0 0;\n",
              "      width: 32px;\n",
              "    }\n",
              "\n",
              "    .colab-df-convert:hover {\n",
              "      background-color: #E2EBFA;\n",
              "      box-shadow: 0px 1px 2px rgba(60, 64, 67, 0.3), 0px 1px 3px 1px rgba(60, 64, 67, 0.15);\n",
              "      fill: #174EA6;\n",
              "    }\n",
              "\n",
              "    .colab-df-buttons div {\n",
              "      margin-bottom: 4px;\n",
              "    }\n",
              "\n",
              "    [theme=dark] .colab-df-convert {\n",
              "      background-color: #3B4455;\n",
              "      fill: #D2E3FC;\n",
              "    }\n",
              "\n",
              "    [theme=dark] .colab-df-convert:hover {\n",
              "      background-color: #434B5C;\n",
              "      box-shadow: 0px 1px 3px 1px rgba(0, 0, 0, 0.15);\n",
              "      filter: drop-shadow(0px 1px 2px rgba(0, 0, 0, 0.3));\n",
              "      fill: #FFFFFF;\n",
              "    }\n",
              "  </style>\n",
              "\n",
              "    <script>\n",
              "      const buttonEl =\n",
              "        document.querySelector('#df-1aa7de97-de86-4713-a04f-b35dbd0364bf button.colab-df-convert');\n",
              "      buttonEl.style.display =\n",
              "        google.colab.kernel.accessAllowed ? 'block' : 'none';\n",
              "\n",
              "      async function convertToInteractive(key) {\n",
              "        const element = document.querySelector('#df-1aa7de97-de86-4713-a04f-b35dbd0364bf');\n",
              "        const dataTable =\n",
              "          await google.colab.kernel.invokeFunction('convertToInteractive',\n",
              "                                                    [key], {});\n",
              "        if (!dataTable) return;\n",
              "\n",
              "        const docLinkHtml = 'Like what you see? Visit the ' +\n",
              "          '<a target=\"_blank\" href=https://colab.research.google.com/notebooks/data_table.ipynb>data table notebook</a>'\n",
              "          + ' to learn more about interactive tables.';\n",
              "        element.innerHTML = '';\n",
              "        dataTable['output_type'] = 'display_data';\n",
              "        await google.colab.output.renderOutput(dataTable, element);\n",
              "        const docLink = document.createElement('div');\n",
              "        docLink.innerHTML = docLinkHtml;\n",
              "        element.appendChild(docLink);\n",
              "      }\n",
              "    </script>\n",
              "  </div>\n",
              "\n",
              "\n",
              "<div id=\"df-ae93ed32-e200-45a5-a6d4-86a1e602222d\">\n",
              "  <button class=\"colab-df-quickchart\" onclick=\"quickchart('df-ae93ed32-e200-45a5-a6d4-86a1e602222d')\"\n",
              "            title=\"Suggest charts\"\n",
              "            style=\"display:none;\">\n",
              "\n",
              "<svg xmlns=\"http://www.w3.org/2000/svg\" height=\"24px\"viewBox=\"0 0 24 24\"\n",
              "     width=\"24px\">\n",
              "    <g>\n",
              "        <path d=\"M19 3H5c-1.1 0-2 .9-2 2v14c0 1.1.9 2 2 2h14c1.1 0 2-.9 2-2V5c0-1.1-.9-2-2-2zM9 17H7v-7h2v7zm4 0h-2V7h2v10zm4 0h-2v-4h2v4z\"/>\n",
              "    </g>\n",
              "</svg>\n",
              "  </button>\n",
              "\n",
              "<style>\n",
              "  .colab-df-quickchart {\n",
              "      --bg-color: #E8F0FE;\n",
              "      --fill-color: #1967D2;\n",
              "      --hover-bg-color: #E2EBFA;\n",
              "      --hover-fill-color: #174EA6;\n",
              "      --disabled-fill-color: #AAA;\n",
              "      --disabled-bg-color: #DDD;\n",
              "  }\n",
              "\n",
              "  [theme=dark] .colab-df-quickchart {\n",
              "      --bg-color: #3B4455;\n",
              "      --fill-color: #D2E3FC;\n",
              "      --hover-bg-color: #434B5C;\n",
              "      --hover-fill-color: #FFFFFF;\n",
              "      --disabled-bg-color: #3B4455;\n",
              "      --disabled-fill-color: #666;\n",
              "  }\n",
              "\n",
              "  .colab-df-quickchart {\n",
              "    background-color: var(--bg-color);\n",
              "    border: none;\n",
              "    border-radius: 50%;\n",
              "    cursor: pointer;\n",
              "    display: none;\n",
              "    fill: var(--fill-color);\n",
              "    height: 32px;\n",
              "    padding: 0;\n",
              "    width: 32px;\n",
              "  }\n",
              "\n",
              "  .colab-df-quickchart:hover {\n",
              "    background-color: var(--hover-bg-color);\n",
              "    box-shadow: 0 1px 2px rgba(60, 64, 67, 0.3), 0 1px 3px 1px rgba(60, 64, 67, 0.15);\n",
              "    fill: var(--button-hover-fill-color);\n",
              "  }\n",
              "\n",
              "  .colab-df-quickchart-complete:disabled,\n",
              "  .colab-df-quickchart-complete:disabled:hover {\n",
              "    background-color: var(--disabled-bg-color);\n",
              "    fill: var(--disabled-fill-color);\n",
              "    box-shadow: none;\n",
              "  }\n",
              "\n",
              "  .colab-df-spinner {\n",
              "    border: 2px solid var(--fill-color);\n",
              "    border-color: transparent;\n",
              "    border-bottom-color: var(--fill-color);\n",
              "    animation:\n",
              "      spin 1s steps(1) infinite;\n",
              "  }\n",
              "\n",
              "  @keyframes spin {\n",
              "    0% {\n",
              "      border-color: transparent;\n",
              "      border-bottom-color: var(--fill-color);\n",
              "      border-left-color: var(--fill-color);\n",
              "    }\n",
              "    20% {\n",
              "      border-color: transparent;\n",
              "      border-left-color: var(--fill-color);\n",
              "      border-top-color: var(--fill-color);\n",
              "    }\n",
              "    30% {\n",
              "      border-color: transparent;\n",
              "      border-left-color: var(--fill-color);\n",
              "      border-top-color: var(--fill-color);\n",
              "      border-right-color: var(--fill-color);\n",
              "    }\n",
              "    40% {\n",
              "      border-color: transparent;\n",
              "      border-right-color: var(--fill-color);\n",
              "      border-top-color: var(--fill-color);\n",
              "    }\n",
              "    60% {\n",
              "      border-color: transparent;\n",
              "      border-right-color: var(--fill-color);\n",
              "    }\n",
              "    80% {\n",
              "      border-color: transparent;\n",
              "      border-right-color: var(--fill-color);\n",
              "      border-bottom-color: var(--fill-color);\n",
              "    }\n",
              "    90% {\n",
              "      border-color: transparent;\n",
              "      border-bottom-color: var(--fill-color);\n",
              "    }\n",
              "  }\n",
              "</style>\n",
              "\n",
              "  <script>\n",
              "    async function quickchart(key) {\n",
              "      const quickchartButtonEl =\n",
              "        document.querySelector('#' + key + ' button');\n",
              "      quickchartButtonEl.disabled = true;  // To prevent multiple clicks.\n",
              "      quickchartButtonEl.classList.add('colab-df-spinner');\n",
              "      try {\n",
              "        const charts = await google.colab.kernel.invokeFunction(\n",
              "            'suggestCharts', [key], {});\n",
              "      } catch (error) {\n",
              "        console.error('Error during call to suggestCharts:', error);\n",
              "      }\n",
              "      quickchartButtonEl.classList.remove('colab-df-spinner');\n",
              "      quickchartButtonEl.classList.add('colab-df-quickchart-complete');\n",
              "    }\n",
              "    (() => {\n",
              "      let quickchartButtonEl =\n",
              "        document.querySelector('#df-ae93ed32-e200-45a5-a6d4-86a1e602222d button');\n",
              "      quickchartButtonEl.style.display =\n",
              "        google.colab.kernel.accessAllowed ? 'block' : 'none';\n",
              "    })();\n",
              "  </script>\n",
              "</div>\n",
              "\n",
              "  <div id=\"id_cbca2d7d-297a-4675-912d-3e481de4ed8e\">\n",
              "    <style>\n",
              "      .colab-df-generate {\n",
              "        background-color: #E8F0FE;\n",
              "        border: none;\n",
              "        border-radius: 50%;\n",
              "        cursor: pointer;\n",
              "        display: none;\n",
              "        fill: #1967D2;\n",
              "        height: 32px;\n",
              "        padding: 0 0 0 0;\n",
              "        width: 32px;\n",
              "      }\n",
              "\n",
              "      .colab-df-generate:hover {\n",
              "        background-color: #E2EBFA;\n",
              "        box-shadow: 0px 1px 2px rgba(60, 64, 67, 0.3), 0px 1px 3px 1px rgba(60, 64, 67, 0.15);\n",
              "        fill: #174EA6;\n",
              "      }\n",
              "\n",
              "      [theme=dark] .colab-df-generate {\n",
              "        background-color: #3B4455;\n",
              "        fill: #D2E3FC;\n",
              "      }\n",
              "\n",
              "      [theme=dark] .colab-df-generate:hover {\n",
              "        background-color: #434B5C;\n",
              "        box-shadow: 0px 1px 3px 1px rgba(0, 0, 0, 0.15);\n",
              "        filter: drop-shadow(0px 1px 2px rgba(0, 0, 0, 0.3));\n",
              "        fill: #FFFFFF;\n",
              "      }\n",
              "    </style>\n",
              "    <button class=\"colab-df-generate\" onclick=\"generateWithVariable('sub1')\"\n",
              "            title=\"Generate code using this dataframe.\"\n",
              "            style=\"display:none;\">\n",
              "\n",
              "  <svg xmlns=\"http://www.w3.org/2000/svg\" height=\"24px\"viewBox=\"0 0 24 24\"\n",
              "       width=\"24px\">\n",
              "    <path d=\"M7,19H8.4L18.45,9,17,7.55,7,17.6ZM5,21V16.75L18.45,3.32a2,2,0,0,1,2.83,0l1.4,1.43a1.91,1.91,0,0,1,.58,1.4,1.91,1.91,0,0,1-.58,1.4L9.25,21ZM18.45,9,17,7.55Zm-12,3A5.31,5.31,0,0,0,4.9,8.1,5.31,5.31,0,0,0,1,6.5,5.31,5.31,0,0,0,4.9,4.9,5.31,5.31,0,0,0,6.5,1,5.31,5.31,0,0,0,8.1,4.9,5.31,5.31,0,0,0,12,6.5,5.46,5.46,0,0,0,6.5,12Z\"/>\n",
              "  </svg>\n",
              "    </button>\n",
              "    <script>\n",
              "      (() => {\n",
              "      const buttonEl =\n",
              "        document.querySelector('#id_cbca2d7d-297a-4675-912d-3e481de4ed8e button.colab-df-generate');\n",
              "      buttonEl.style.display =\n",
              "        google.colab.kernel.accessAllowed ? 'block' : 'none';\n",
              "\n",
              "      buttonEl.onclick = () => {\n",
              "        google.colab.notebook.generateWithVariable('sub1');\n",
              "      }\n",
              "      })();\n",
              "    </script>\n",
              "  </div>\n",
              "\n",
              "    </div>\n",
              "  </div>\n"
            ],
            "application/vnd.google.colaboratory.intrinsic+json": {
              "type": "dataframe",
              "variable_name": "sub1"
            }
          },
          "metadata": {},
          "execution_count": 69
        }
      ]
    },
    {
      "cell_type": "code",
      "source": [
        "sub1['ensemble2']=ensemble2['FloodProbability']"
      ],
      "metadata": {
        "id": "MfS04Aclx9yS"
      },
      "execution_count": 68,
      "outputs": []
    },
    {
      "cell_type": "code",
      "source": [
        "print(len(sub1))\n",
        "print(len(sub2))\n",
        "print(len(sub3))"
      ],
      "metadata": {
        "id": "oZbJdyK2tX3X",
        "outputId": "073682eb-34fe-4094-ceb6-d9ee23759841",
        "colab": {
          "base_uri": "https://localhost:8080/"
        }
      },
      "execution_count": 45,
      "outputs": [
        {
          "output_type": "stream",
          "name": "stdout",
          "text": [
            "745305\n",
            "745305\n",
            "745305\n"
          ]
        }
      ]
    },
    {
      "cell_type": "code",
      "source": [
        "# 예측값 평균 내기\n",
        "ensemble_sub = sub1.copy()\n",
        "ensemble_sub['FloodProbability'] = (sub1['FloodProbability'] + sub2['FloodProbability'] + sub3['FloodProbability']) / 3\n",
        "\n",
        "# 앙상블 결과 저장\n",
        "ensemble_sub.to_csv('submission_ensemble.csv', index=False)"
      ],
      "metadata": {
        "id": "H_VzStiUsLfl"
      },
      "execution_count": 50,
      "outputs": []
    },
    {
      "cell_type": "code",
      "source": [
        "ensemble2 = sub2.copy()\n",
        "ensemble2['FloodProbability'] = sub1['FloodProbability']  +sub1['FloodProbability'] - ensemble_sub['FloodProbability']"
      ],
      "metadata": {
        "id": "R81talf8zR5C"
      },
      "execution_count": 66,
      "outputs": []
    },
    {
      "cell_type": "code",
      "source": [
        "ensemble2.to_csv('submission_ensemble2.csv', index=False)"
      ],
      "metadata": {
        "id": "jzA4gFUPzpje"
      },
      "execution_count": 70,
      "outputs": []
    },
    {
      "cell_type": "code",
      "source": [
        "len(ensemble2)"
      ],
      "metadata": {
        "id": "lQ9uGfZQ0HPV",
        "outputId": "f9ce2bed-8b0a-4490-b792-0343a290e9af",
        "colab": {
          "base_uri": "https://localhost:8080/"
        }
      },
      "execution_count": 71,
      "outputs": [
        {
          "output_type": "execute_result",
          "data": {
            "text/plain": [
              "745305"
            ]
          },
          "metadata": {},
          "execution_count": 71
        }
      ]
    },
    {
      "cell_type": "code",
      "source": [
        "print(ensemble2.head())"
      ],
      "metadata": {
        "id": "HxWTfHJ5sUkv",
        "outputId": "2631a5eb-9e63-4cde-95b7-c4e6b7a47ceb",
        "colab": {
          "base_uri": "https://localhost:8080/"
        }
      },
      "execution_count": 52,
      "outputs": [
        {
          "output_type": "stream",
          "name": "stdout",
          "text": [
            "        id  FloodProbability\n",
            "0  1117957          0.578473\n",
            "1  1117958          0.455535\n",
            "2  1117959          0.448232\n",
            "3  1117960          0.465968\n",
            "4  1117961          0.466263\n"
          ]
        }
      ]
    },
    {
      "cell_type": "code",
      "source": [
        "len(ensemble_sub)"
      ],
      "metadata": {
        "id": "Ji5dBGG3t4eI",
        "outputId": "b5f0b4a8-ef06-4457-92cc-14781a2aac14",
        "colab": {
          "base_uri": "https://localhost:8080/"
        }
      },
      "execution_count": 51,
      "outputs": [
        {
          "output_type": "execute_result",
          "data": {
            "text/plain": [
              "745305"
            ]
          },
          "metadata": {},
          "execution_count": 51
        }
      ]
    }
  ]
}
