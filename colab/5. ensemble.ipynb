{
  "nbformat": 4,
  "nbformat_minor": 0,
  "metadata": {
    "colab": {
      "provenance": [],
      "authorship_tag": "ABX9TyMxvfqMqSn7AazKhKsfXfWg",
      "include_colab_link": true
    },
    "kernelspec": {
      "name": "python3",
      "display_name": "Python 3"
    },
    "language_info": {
      "name": "python"
    }
  },
  "cells": [
    {
      "cell_type": "markdown",
      "metadata": {
        "id": "view-in-github",
        "colab_type": "text"
      },
      "source": [
        "<a href=\"https://colab.research.google.com/github/i2mmmmm/kaggle_flood/blob/main/5.%20ensemble.ipynb\" target=\"_parent\"><img src=\"https://colab.research.google.com/assets/colab-badge.svg\" alt=\"Open In Colab\"/></a>"
      ]
    },
    {
      "cell_type": "code",
      "source": [
        "import os\n",
        "os.environ['KAGGLE_USERNAME']='mmmmmlee'\n",
        "os.environ['KAGGLE_KEY']='b4527f98e27813c6dae3fb199096dcb5'"
      ],
      "metadata": {
        "id": "fs6gowPQ409q"
      },
      "execution_count": 1,
      "outputs": []
    },
    {
      "cell_type": "code",
      "source": [
        "!kaggle competitions download -c Playground-series-s4e5"
      ],
      "metadata": {
        "colab": {
          "base_uri": "https://localhost:8080/"
        },
        "id": "l-Xevuva5hJF",
        "outputId": "0e547f4c-b384-46e0-e0ca-9918f75086e0"
      },
      "execution_count": 2,
      "outputs": [
        {
          "output_type": "stream",
          "name": "stdout",
          "text": [
            "Downloading Playground-series-s4e5.zip to /content\n",
            "\r  0% 0.00/28.0M [00:00<?, ?B/s]\r 64% 18.0M/28.0M [00:00<00:00, 185MB/s]\n",
            "\r100% 28.0M/28.0M [00:00<00:00, 211MB/s]\n"
          ]
        }
      ]
    },
    {
      "cell_type": "code",
      "source": [
        "!unzip 'Playground-series-s4e5.zip'"
      ],
      "metadata": {
        "colab": {
          "base_uri": "https://localhost:8080/"
        },
        "id": "F3TOjJfH5tZc",
        "outputId": "da662400-9750-42bd-a91a-39046bf69be9"
      },
      "execution_count": 3,
      "outputs": [
        {
          "output_type": "stream",
          "name": "stdout",
          "text": [
            "Archive:  Playground-series-s4e5.zip\n",
            "  inflating: sample_submission.csv   \n",
            "  inflating: test.csv                \n",
            "  inflating: train.csv               \n"
          ]
        }
      ]
    },
    {
      "cell_type": "code",
      "source": [
        "import pandas as pd\n",
        "import numpy as np\n",
        "import seaborn as sns\n",
        "import matplotlib.pyplot as plt\n",
        "\n",
        "from sklearn.preprocessing import StandardScaler\n",
        "from sklearn.linear_model import LinearRegression\n",
        "from sklearn.model_selection import train_test_split\n",
        "from sklearn.metrics import mean_squared_error, r2_score\n",
        "\n",
        "from sklearn.ensemble import VotingRegressor, BaggingRegressor, StackingRegressor\n",
        "from sklearn.linear_model import BayesianRidge, SGDRegressor, Ridge\n",
        "from sklearn.model_selection import cross_val_score, KFold\n",
        "from sklearn.pipeline import make_pipeline\n",
        "import xgboost as xgb\n",
        "import lightgbm as lgb\n",
        "\n",
        "from keras.models import Sequential\n",
        "from keras.layers import Dense\n",
        "from tensorflow.keras.callbacks import EarlyStopping"
      ],
      "metadata": {
        "id": "387z09Uk6WPr"
      },
      "execution_count": 4,
      "outputs": []
    },
    {
      "cell_type": "code",
      "source": [
        "train = pd.read_csv('train.csv')\n",
        "test = pd.read_csv('test.csv')"
      ],
      "metadata": {
        "id": "vq29Kz8I76PP"
      },
      "execution_count": 15,
      "outputs": []
    },
    {
      "cell_type": "code",
      "source": [
        "# train 표준화, 스케일링\n",
        "scaler = StandardScaler()\n",
        "X = train.drop(columns=['FloodProbability', 'id'])\n",
        "y = train['FloodProbability']\n",
        "X_scaled = scaler.fit_transform(X)"
      ],
      "metadata": {
        "id": "MWnmqYIrNEiW"
      },
      "execution_count": 16,
      "outputs": []
    },
    {
      "cell_type": "code",
      "source": [
        "# 선형회귀_baseline\n",
        "\n",
        "X_train, X_test, y_train, y_test = train_test_split(X_scaled, y, test_size=0.2, random_state=35)\n",
        "model = LinearRegression()\n",
        "model.fit(X_train, y_train)\n",
        "y_pred = model.predict(X_test)\n",
        "\n",
        "print('R2 Score:', r2_score(y_test, y_pred))\n",
        "print('MSE:', mean_squared_error(y_test, y_pred))"
      ],
      "metadata": {
        "colab": {
          "base_uri": "https://localhost:8080/"
        },
        "id": "tZM072ebOAAk",
        "outputId": "dac8aab4-b0f6-4334-95de-3a33ad2ed0c7"
      },
      "execution_count": 7,
      "outputs": [
        {
          "output_type": "stream",
          "name": "stdout",
          "text": [
            "R2 Score: 0.8449835489068076\n",
            "MSE: 0.00040395088979260915\n"
          ]
        }
      ]
    },
    {
      "cell_type": "code",
      "source": [
        "# 다시 feature engineering\n",
        "train = pd.read_csv('train.csv')\n",
        "\n",
        "def simplified_getFeats(df):\n",
        "    num_cols = ['MonsoonIntensity', 'TopographyDrainage', 'RiverManagement', 'Deforestation', 'Urbanization', 'ClimateChange', 'DamsQuality', 'Siltation', 'AgriculturalPractices', 'Encroachments', 'IneffectiveDisasterPreparedness', 'DrainageSystems', 'CoastalVulnerability', 'Landslides', 'Watersheds', 'DeterioratingInfrastructure', 'PopulationScore', 'WetlandLoss', 'InadequatePlanning', 'PoliticalFactors']\n",
        "\n",
        "    scaler = StandardScaler().fit(df[num_cols])\n",
        "    df[num_cols] = scaler.transform(df[num_cols])  # Scale early\n",
        "\n",
        "    BASE_FEATURES = test.columns\n",
        "    df = train.copy()\n",
        "    df['CombinedUrbanImpact'] = df['Urbanization'] * df['PopulationScore']\n",
        "    df['EnvironmentalDegradation'] = df['Deforestation'] + df['Siltation'] + df['WetlandLoss']\n",
        "    df['InfrastructureVulnerability'] = df['DeterioratingInfrastructure'] + df['DrainageSystems'] + df['DamsQuality']\n",
        "    df['NaturalDisasterRisk'] = df['MonsoonIntensity'] + df['ClimateChange'] + df['Landslides'] + df['CoastalVulnerability']\n",
        "    df['ManagementEffectiveness'] = df['RiverManagement'] + df['AgriculturalPractices'] + df['Encroachments'] + df['InadequatePlanning'] + df['PoliticalFactors']\n",
        "    df['Infrastructure_Risk'] = df['DamsQuality'] * df['DrainageSystems']\n",
        "    df['wet_Risk'] = df['WetlandLoss'] * df['Encroachments']\n",
        "\n",
        "    # df['total'] = df[BASE_FEATURES].sum(axis=1)\n",
        "    df['mean'] = df[BASE_FEATURES].mean(axis=1)\n",
        "    df['std'] = df[BASE_FEATURES].std(axis=1)\n",
        "    df['max'] = df[BASE_FEATURES].max(axis=1)\n",
        "    df['min'] = df[BASE_FEATURES].min(axis=1)\n",
        "    # df['median'] = df[BASE_FEATURES].median(axis=1)\n",
        "    # df['ptp'] = df[BASE_FEATURES].values.ptp(axis=1)\n",
        "    # df['q25'] = df[BASE_FEATURES].quantile(0.25, axis=1)\n",
        "    # df['q75'] = df[BASE_FEATURES].quantile(0.75, axis=1)\n",
        "    # df['ClimateImpact'] = df['MonsoonIntensity'] + df['ClimateChange']\n",
        "    # df['AnthropogenicPressure'] = df['Deforestation'] + df['Urbanization'] + df['AgriculturalPractices'] + df['Encroachments']\n",
        "    # df['InfrastructureQuality'] = df['DamsQuality'] + df['DrainageSystems'] + df['DeterioratingInfrastructure']\n",
        "    # df['CoastalVulnerabilityTotal'] = df['CoastalVulnerability'] + df['Landslides']\n",
        "    # df['PreventiveMeasuresEfficiency'] = df['RiverManagement'] + df['IneffectiveDisasterPreparedness'] + df['InadequatePlanning']\n",
        "    # df['EcosystemImpact'] = df['WetlandLoss'] + df['Watersheds']\n",
        "    # df['SocioPoliticalContext'] = df['PopulationScore'] * df['PoliticalFactors']\n",
        "    return df\n",
        "\n",
        "\n",
        "\n",
        "\n",
        "train_simp = simplified_getFeats(train)\n",
        "\n",
        "X = train_simp.drop(columns=['FloodProbability', 'id'])\n",
        "y = train_simp['FloodProbability']\n",
        "\n",
        "# models = {\n",
        "#     'Linear Regression': LinearRegression(),\n",
        "#     'Ridge Regression': Ridge(),\n",
        "#     'SGD Regressor': SGDRegressor(),\n",
        "#     'Bayesian Ridge Regression': BayesianRidge(),\n",
        "#     'Bagging Regressor': BaggingRegressor(estimator=LinearRegression()),\n",
        "#     'XGBoost Regressor': xgb.XGBRegressor(),\n",
        "#     'LightGBM Regressor': lgb.LGBMRegressor(),\n",
        "# }\n",
        "\n",
        "# X_train, X_test, y_train, y_test = train_test_split(X_scaled, y, test_size=0.2, random_state=35)\n",
        "\n",
        "# kf = KFold(n_splits=5, shuffle=True, random_state=35)\n",
        "\n",
        "# for name, model in models.items():\n",
        "#     mse_values = []\n",
        "#     r2_values = []\n",
        "#     for train_index, val_index in kf.split(X):\n",
        "#         X_train, X_val = X.iloc[train_index], X.iloc[val_index]\n",
        "#         y_train, y_val = y.iloc[train_index], y.iloc[val_index]\n",
        "\n",
        "#         model.fit(X_train, y_train)\n",
        "#         y_pred = model.predict(X_val)\n",
        "#         r2_values.append(r2_score(y_val, y_pred))\n",
        "#     avg_r2 = np.mean(r2_values)\n",
        "#     print(f'{name}: R2 = {avg_r2:.4f}')\n"
      ],
      "metadata": {
        "id": "yyW1lq57zHh4"
      },
      "execution_count": 13,
      "outputs": []
    },
    {
      "cell_type": "code",
      "source": [
        "# 다시 feature engineering\n",
        "train = pd.read_csv('train.csv')\n",
        "\n",
        "def simplified_getFeats(df):\n",
        "    num_cols = ['MonsoonIntensity', 'TopographyDrainage', 'RiverManagement', 'Deforestation', 'Urbanization', 'ClimateChange', 'DamsQuality', 'Siltation', 'AgriculturalPractices', 'Encroachments', 'IneffectiveDisasterPreparedness', 'DrainageSystems', 'CoastalVulnerability', 'Landslides', 'Watersheds', 'DeterioratingInfrastructure', 'PopulationScore', 'WetlandLoss', 'InadequatePlanning', 'PoliticalFactors']\n",
        "\n",
        "    scaler = StandardScaler().fit(df[num_cols])\n",
        "    df[num_cols] = scaler.transform(df[num_cols])  # Scale early\n",
        "\n",
        "    # Basic Stats\n",
        "    df['mean'] = df[num_cols].mean(axis=1)\n",
        "    df['std'] = df[num_cols].std(axis=1)\n",
        "    df['max'] = df[num_cols].max(axis=1)\n",
        "    df['min'] = df[num_cols].min(axis=1)\n",
        "\n",
        "    # Interaction Features (Simplified)\n",
        "    df['Climate_Risk'] = df['MonsoonIntensity'] * df['ClimateChange']\n",
        "    df['Infrastructure_Risk'] = df['DamsQuality'] * df['DrainageSystems']\n",
        "    df['wet_Risk'] = df['WetlandLoss'] * df['Encroachments']\n",
        "\n",
        "    return df\n",
        "\n",
        "train_simp = simplified_getFeats(train)\n",
        "\n",
        "X = train_simp.drop(columns=['FloodProbability', 'id'])\n",
        "y = train_simp['FloodProbability']"
      ],
      "metadata": {
        "id": "mQlKyqBzEBvf"
      },
      "execution_count": null,
      "outputs": []
    },
    {
      "cell_type": "code",
      "source": [
        "def\n",
        "df['CombinedUrbanImpact'] = df['Urbanization'] * df['PopulationScore']\n",
        "df['EnvironmentalDegradation'] = df['Deforestation'] + df['Siltation'] + df['WetlandLoss']\n",
        "df['InfrastructureVulnerability'] = df['DeterioratingInfrastructure'] + df['DrainageSystems'] + df['DamsQuality']\n",
        "df['NaturalDisasterRisk'] = df['MonsoonIntensity'] + df['ClimateChange'] + df['Landslides'] + df['CoastalVulnerability']\n",
        "df['ManagementEffectiveness'] = df['RiverManagement'] + df['AgriculturalPractices'] + df['Encroachments'] + df['InadequatePlanning'] + df['PoliticalFactors']"
      ],
      "metadata": {
        "id": "-EuimlDjy82l"
      },
      "execution_count": null,
      "outputs": []
    },
    {
      "cell_type": "code",
      "source": [],
      "metadata": {
        "id": "RwRN4rPjy5O5"
      },
      "execution_count": null,
      "outputs": []
    },
    {
      "cell_type": "code",
      "source": [
        "# 훈련, 검증, 테스트 데이터 나누기\n",
        "X_train, X_temp, y_train, y_temp = train_test_split(X_scaled, y, test_size=0.3, random_state=35)\n",
        "X_val, X_test, y_val, y_test = train_test_split(X_temp, y_temp, test_size=0.5, random_state=35)\n",
        "\n",
        "# 모델 설계\n",
        "model = Sequential()\n",
        "model.add(Dense(64, activation='relu', input_shape=(X_train.shape[1],)))\n",
        "model.add(Dense(32, activation='relu'))\n",
        "model.add(Dense(1))  # 출력 뉴런 하나 (홍수 발생 가능성)\n",
        "\n",
        "# 모델 컴파일\n",
        "model.compile(optimizer='adam', loss='mse', metrics=['mae'])\n",
        "\n",
        "# EarlyStopping 콜백 설정\n",
        "early_stopping = EarlyStopping(monitor='val_loss', patience=6, restore_best_weights=True)\n",
        "\n",
        "# 모델 훈련\n",
        "history = model.fit(X_train, y_train, epochs=10, batch_size=32, validation_data=(X_val, y_val), callbacks=[early_stopping])\n",
        "\n",
        "# 모델 평가\n",
        "loss, mae = model.evaluate(X_test, y_test)\n",
        "print(\"Test Loss:\", loss)\n",
        "print(\"Test MAE:\", mae)"
      ],
      "metadata": {
        "id": "KXFhuLdrDQdu",
        "outputId": "b0e4a868-ac3a-4c78-de77-ecffa5c214e5",
        "colab": {
          "base_uri": "https://localhost:8080/"
        }
      },
      "execution_count": 17,
      "outputs": [
        {
          "output_type": "stream",
          "name": "stdout",
          "text": [
            "Epoch 1/10\n",
            "24456/24456 [==============================] - 69s 3ms/step - loss: 8.4389e-04 - mae: 0.0185 - val_loss: 3.9723e-04 - val_mae: 0.0151\n",
            "Epoch 2/10\n",
            "24456/24456 [==============================] - 61s 2ms/step - loss: 3.7414e-04 - mae: 0.0152 - val_loss: 3.7714e-04 - val_mae: 0.0149\n",
            "Epoch 3/10\n",
            "24456/24456 [==============================] - 59s 2ms/step - loss: 3.7144e-04 - mae: 0.0151 - val_loss: 3.6879e-04 - val_mae: 0.0149\n",
            "Epoch 4/10\n",
            "24456/24456 [==============================] - 68s 3ms/step - loss: 3.6994e-04 - mae: 0.0151 - val_loss: 3.6329e-04 - val_mae: 0.0149\n",
            "Epoch 5/10\n",
            "24456/24456 [==============================] - 71s 3ms/step - loss: 3.6795e-04 - mae: 0.0151 - val_loss: 3.6323e-04 - val_mae: 0.0151\n",
            "Epoch 6/10\n",
            "24456/24456 [==============================] - 63s 3ms/step - loss: 3.6696e-04 - mae: 0.0150 - val_loss: 3.6513e-04 - val_mae: 0.0152\n",
            "Epoch 7/10\n",
            "24456/24456 [==============================] - 66s 3ms/step - loss: 3.6584e-04 - mae: 0.0150 - val_loss: 3.7413e-04 - val_mae: 0.0149\n",
            "Epoch 8/10\n",
            "24456/24456 [==============================] - 63s 3ms/step - loss: 3.6591e-04 - mae: 0.0150 - val_loss: 3.6812e-04 - val_mae: 0.0152\n",
            "Epoch 9/10\n",
            "24456/24456 [==============================] - 126s 5ms/step - loss: 3.6473e-04 - mae: 0.0150 - val_loss: 3.6322e-04 - val_mae: 0.0151\n",
            "Epoch 10/10\n",
            "24456/24456 [==============================] - 106s 4ms/step - loss: 3.6456e-04 - mae: 0.0150 - val_loss: 3.6463e-04 - val_mae: 0.0148\n",
            "5241/5241 [==============================] - 8s 1ms/step - loss: 3.6431e-04 - mae: 0.0148\n",
            "Test Loss: 0.0003643132222350687\n",
            "Test MAE: 0.014788933098316193\n"
          ]
        }
      ]
    },
    {
      "cell_type": "code",
      "source": [
        "# test에도 적용\n",
        "test = pd.read_csv('test.csv')\n",
        "test_simp = simplified_getFeats(test)\n"
      ],
      "metadata": {
        "id": "FHEc1e4qMtny"
      },
      "execution_count": null,
      "outputs": []
    },
    {
      "cell_type": "code",
      "source": [
        "# test_simp 데이터셋에서 id를 제외한 특성만 사용하여 예측\n",
        "X_test_simp = test_simp.drop(columns=['id'])\n",
        "y_pred_simp = model.predict(X_test_simp)\n",
        "\n",
        "# 예측 결과를 DataFrame으로 저장\n",
        "predictions = pd.DataFrame({'id': test_simp['id'], 'PredictedFloodProbability': y_pred_simp.flatten()})\n",
        "\n",
        "# 예측 결과 출력\n",
        "print(predictions.head())"
      ],
      "metadata": {
        "id": "aM-XBOppnvXq",
        "outputId": "22013b39-1ffd-435d-bd6d-6afd2e6ac035",
        "colab": {
          "base_uri": "https://localhost:8080/"
        }
      },
      "execution_count": null,
      "outputs": [
        {
          "output_type": "stream",
          "name": "stdout",
          "text": [
            "23291/23291 [==============================] - 34s 1ms/step\n",
            "        id  PredictedFloodProbability\n",
            "0  1117957                   0.577113\n",
            "1  1117958                   0.455221\n",
            "2  1117959                   0.450350\n",
            "3  1117960                   0.469356\n",
            "4  1117961                   0.469919\n"
          ]
        }
      ]
    },
    {
      "cell_type": "code",
      "source": [
        "predictions.to_csv('submission_MLP.csv', index=False)"
      ],
      "metadata": {
        "id": "1zQhOvY3pLe9"
      },
      "execution_count": null,
      "outputs": []
    },
    {
      "cell_type": "code",
      "source": [
        "# test flood 예측 진행\n",
        "\n",
        "X_train = train_simp.drop(columns=['FloodProbability', 'id'])\n",
        "y_train = train_simp['FloodProbability']\n",
        "X_test = test_simp.drop(columns=['id'])"
      ],
      "metadata": {
        "id": "PuYkRLZJXoff"
      },
      "execution_count": null,
      "outputs": []
    },
    {
      "cell_type": "code",
      "source": [
        "# 모델 설계\n",
        "model = Sequential()\n",
        "model.add(Dense(64, activation='relu', input_shape=(X_train.shape[1],)))\n",
        "model.add(Dense(32, activation='relu'))\n",
        "model.add(Dense(1))  # 출력 뉴런 하나 (홍수 발생 가능성)\n",
        "\n",
        "# 모델 컴파일\n",
        "model.compile(optimizer='adam', loss='mse', metrics=['mae'])\n",
        "\n",
        "# EarlyStopping 콜백 설정\n",
        "early_stopping = EarlyStopping(monitor='val_loss', patience=10, restore_best_weights=True)\n",
        "\n",
        "# 모델 훈련\n",
        "history = model.fit(X_train, y_train, epochs=50, batch_size=32, validation_data=(X_val, y_val))"
      ],
      "metadata": {
        "id": "1Gr-HWdPUg6h"
      },
      "execution_count": null,
      "outputs": []
    },
    {
      "cell_type": "code",
      "source": [
        "# LightGBM 모델 학습\n",
        "\n",
        "lgbm_params = {\n",
        "    'num_leaves': 183,\n",
        "    'learning_rate': 0.01183688880802108,\n",
        "    'n_estimators': 577,\n",
        "    'subsample_for_bin': 165697,\n",
        "    'min_child_samples': 114,\n",
        "    'reg_alpha': 2.075080888948164e-06,\n",
        "    'reg_lambda': 3.838938366471552e-07,\n",
        "    'colsample_bytree': 0.9634044234652241,\n",
        "    'subsample': 0.9592138618622019,\n",
        "    'max_depth': 9\n",
        "}\n",
        "\n",
        "model_lgb = lgb.LGBMRegressor(**lgbm_params)\n",
        "model_lgb.fit(X_train, y_train)\n",
        "y_pred_lgb = model_lgb.predict(X_test)"
      ],
      "metadata": {
        "colab": {
          "base_uri": "https://localhost:8080/"
        },
        "id": "tn2NkMZENMhJ",
        "outputId": "cbd5b5c7-f539-4fe9-de31-8de24a8a3233"
      },
      "execution_count": null,
      "outputs": [
        {
          "output_type": "stream",
          "name": "stdout",
          "text": [
            "[LightGBM] [Info] Auto-choosing col-wise multi-threading, the overhead of testing was 0.487907 seconds.\n",
            "You can set `force_col_wise=true` to remove the overhead.\n",
            "[LightGBM] [Info] Total Bins 1843\n",
            "[LightGBM] [Info] Number of data points in the train set: 1117957, number of used features: 27\n",
            "[LightGBM] [Info] Start training from score 0.504480\n",
            "[LightGBM] [Warning] No further splits with positive gain, best gain: -inf\n",
            "[LightGBM] [Warning] No further splits with positive gain, best gain: -inf\n",
            "[LightGBM] [Warning] No further splits with positive gain, best gain: -inf\n",
            "[LightGBM] [Warning] No further splits with positive gain, best gain: -inf\n",
            "[LightGBM] [Warning] No further splits with positive gain, best gain: -inf\n",
            "[LightGBM] [Warning] No further splits with positive gain, best gain: -inf\n",
            "[LightGBM] [Warning] No further splits with positive gain, best gain: -inf\n",
            "[LightGBM] [Warning] No further splits with positive gain, best gain: -inf\n",
            "[LightGBM] [Warning] No further splits with positive gain, best gain: -inf\n",
            "[LightGBM] [Warning] No further splits with positive gain, best gain: -inf\n",
            "[LightGBM] [Warning] No further splits with positive gain, best gain: -inf\n",
            "[LightGBM] [Warning] No further splits with positive gain, best gain: -inf\n",
            "[LightGBM] [Warning] No further splits with positive gain, best gain: -inf\n",
            "[LightGBM] [Warning] No further splits with positive gain, best gain: -inf\n",
            "[LightGBM] [Warning] No further splits with positive gain, best gain: -inf\n",
            "[LightGBM] [Warning] No further splits with positive gain, best gain: -inf\n",
            "[LightGBM] [Warning] No further splits with positive gain, best gain: -inf\n",
            "[LightGBM] [Warning] No further splits with positive gain, best gain: -inf\n",
            "[LightGBM] [Warning] No further splits with positive gain, best gain: -inf\n",
            "[LightGBM] [Warning] No further splits with positive gain, best gain: -inf\n",
            "[LightGBM] [Warning] No further splits with positive gain, best gain: -inf\n",
            "[LightGBM] [Warning] No further splits with positive gain, best gain: -inf\n",
            "[LightGBM] [Warning] No further splits with positive gain, best gain: -inf\n",
            "[LightGBM] [Warning] No further splits with positive gain, best gain: -inf\n",
            "[LightGBM] [Warning] No further splits with positive gain, best gain: -inf\n",
            "[LightGBM] [Warning] No further splits with positive gain, best gain: -inf\n",
            "[LightGBM] [Warning] No further splits with positive gain, best gain: -inf\n",
            "[LightGBM] [Warning] No further splits with positive gain, best gain: -inf\n",
            "[LightGBM] [Warning] No further splits with positive gain, best gain: -inf\n",
            "[LightGBM] [Warning] No further splits with positive gain, best gain: -inf\n",
            "[LightGBM] [Warning] No further splits with positive gain, best gain: -inf\n",
            "[LightGBM] [Warning] No further splits with positive gain, best gain: -inf\n",
            "[LightGBM] [Warning] No further splits with positive gain, best gain: -inf\n",
            "[LightGBM] [Warning] No further splits with positive gain, best gain: -inf\n",
            "[LightGBM] [Warning] No further splits with positive gain, best gain: -inf\n",
            "[LightGBM] [Warning] No further splits with positive gain, best gain: -inf\n",
            "[LightGBM] [Warning] No further splits with positive gain, best gain: -inf\n",
            "[LightGBM] [Warning] No further splits with positive gain, best gain: -inf\n",
            "[LightGBM] [Warning] No further splits with positive gain, best gain: -inf\n",
            "[LightGBM] [Warning] No further splits with positive gain, best gain: -inf\n",
            "[LightGBM] [Warning] No further splits with positive gain, best gain: -inf\n",
            "[LightGBM] [Warning] No further splits with positive gain, best gain: -inf\n",
            "[LightGBM] [Warning] No further splits with positive gain, best gain: -inf\n",
            "[LightGBM] [Warning] No further splits with positive gain, best gain: -inf\n",
            "[LightGBM] [Warning] No further splits with positive gain, best gain: -inf\n",
            "[LightGBM] [Warning] No further splits with positive gain, best gain: -inf\n",
            "[LightGBM] [Warning] No further splits with positive gain, best gain: -inf\n",
            "[LightGBM] [Warning] No further splits with positive gain, best gain: -inf\n",
            "[LightGBM] [Warning] No further splits with positive gain, best gain: -inf\n",
            "[LightGBM] [Warning] No further splits with positive gain, best gain: -inf\n",
            "[LightGBM] [Warning] No further splits with positive gain, best gain: -inf\n",
            "[LightGBM] [Warning] No further splits with positive gain, best gain: -inf\n",
            "[LightGBM] [Warning] No further splits with positive gain, best gain: -inf\n",
            "[LightGBM] [Warning] No further splits with positive gain, best gain: -inf\n",
            "[LightGBM] [Warning] No further splits with positive gain, best gain: -inf\n",
            "[LightGBM] [Warning] No further splits with positive gain, best gain: -inf\n",
            "[LightGBM] [Warning] No further splits with positive gain, best gain: -inf\n",
            "[LightGBM] [Warning] No further splits with positive gain, best gain: -inf\n"
          ]
        }
      ]
    },
    {
      "cell_type": "code",
      "source": [
        "# 출력\n",
        "test_simp['FloodProbability'] = y_pred_lgb\n",
        "test_simp[['id', 'FloodProbability']].to_csv('submission_engi_lgb_para.csv', index=False)"
      ],
      "metadata": {
        "id": "R_zHW9P6Sstw"
      },
      "execution_count": null,
      "outputs": []
    },
    {
      "cell_type": "markdown",
      "source": [
        "# 특성 엔지니어링 이후 제출 - 0.866"
      ],
      "metadata": {
        "id": "vh3YAiVWY00-"
      }
    },
    {
      "cell_type": "code",
      "source": [
        "sub1 = pd.read_csv('submission_ensemble.csv')\n",
        "sub2 = pd.read_csv('submission_MLP.csv')\n",
        "sub3 = pd.read_csv('submission_engi_lgb_para.csv')\n"
      ],
      "metadata": {
        "id": "sIry6fPJrhQi"
      },
      "execution_count": 18,
      "outputs": []
    },
    {
      "cell_type": "code",
      "source": [
        "print(len(sub1))\n",
        "print(len(sub2))\n",
        "print(len(sub3))"
      ],
      "metadata": {
        "id": "oZbJdyK2tX3X",
        "outputId": "23ab46fc-2a69-4f7a-b989-02740a33acf4",
        "colab": {
          "base_uri": "https://localhost:8080/"
        }
      },
      "execution_count": 19,
      "outputs": [
        {
          "output_type": "stream",
          "name": "stdout",
          "text": [
            "745305\n",
            "745305\n",
            "745305\n"
          ]
        }
      ]
    },
    {
      "cell_type": "code",
      "source": [
        "sub3.head() #PredictedFloodProbability"
      ],
      "metadata": {
        "id": "dNPDVCtKgyCI",
        "outputId": "6f39c1e3-5c39-407e-9ad4-5769db15d150",
        "colab": {
          "base_uri": "https://localhost:8080/",
          "height": 206
        }
      },
      "execution_count": 22,
      "outputs": [
        {
          "output_type": "execute_result",
          "data": {
            "text/plain": [
              "        id  FloodProbability\n",
              "0  1117957          0.577174\n",
              "1  1117958          0.454428\n",
              "2  1117959          0.450117\n",
              "3  1117960          0.466850\n",
              "4  1117961          0.467364"
            ],
            "text/html": [
              "\n",
              "  <div id=\"df-57c4cc79-6b58-4020-8323-43a186df7594\" class=\"colab-df-container\">\n",
              "    <div>\n",
              "<style scoped>\n",
              "    .dataframe tbody tr th:only-of-type {\n",
              "        vertical-align: middle;\n",
              "    }\n",
              "\n",
              "    .dataframe tbody tr th {\n",
              "        vertical-align: top;\n",
              "    }\n",
              "\n",
              "    .dataframe thead th {\n",
              "        text-align: right;\n",
              "    }\n",
              "</style>\n",
              "<table border=\"1\" class=\"dataframe\">\n",
              "  <thead>\n",
              "    <tr style=\"text-align: right;\">\n",
              "      <th></th>\n",
              "      <th>id</th>\n",
              "      <th>FloodProbability</th>\n",
              "    </tr>\n",
              "  </thead>\n",
              "  <tbody>\n",
              "    <tr>\n",
              "      <th>0</th>\n",
              "      <td>1117957</td>\n",
              "      <td>0.577174</td>\n",
              "    </tr>\n",
              "    <tr>\n",
              "      <th>1</th>\n",
              "      <td>1117958</td>\n",
              "      <td>0.454428</td>\n",
              "    </tr>\n",
              "    <tr>\n",
              "      <th>2</th>\n",
              "      <td>1117959</td>\n",
              "      <td>0.450117</td>\n",
              "    </tr>\n",
              "    <tr>\n",
              "      <th>3</th>\n",
              "      <td>1117960</td>\n",
              "      <td>0.466850</td>\n",
              "    </tr>\n",
              "    <tr>\n",
              "      <th>4</th>\n",
              "      <td>1117961</td>\n",
              "      <td>0.467364</td>\n",
              "    </tr>\n",
              "  </tbody>\n",
              "</table>\n",
              "</div>\n",
              "    <div class=\"colab-df-buttons\">\n",
              "\n",
              "  <div class=\"colab-df-container\">\n",
              "    <button class=\"colab-df-convert\" onclick=\"convertToInteractive('df-57c4cc79-6b58-4020-8323-43a186df7594')\"\n",
              "            title=\"Convert this dataframe to an interactive table.\"\n",
              "            style=\"display:none;\">\n",
              "\n",
              "  <svg xmlns=\"http://www.w3.org/2000/svg\" height=\"24px\" viewBox=\"0 -960 960 960\">\n",
              "    <path d=\"M120-120v-720h720v720H120Zm60-500h600v-160H180v160Zm220 220h160v-160H400v160Zm0 220h160v-160H400v160ZM180-400h160v-160H180v160Zm440 0h160v-160H620v160ZM180-180h160v-160H180v160Zm440 0h160v-160H620v160Z\"/>\n",
              "  </svg>\n",
              "    </button>\n",
              "\n",
              "  <style>\n",
              "    .colab-df-container {\n",
              "      display:flex;\n",
              "      gap: 12px;\n",
              "    }\n",
              "\n",
              "    .colab-df-convert {\n",
              "      background-color: #E8F0FE;\n",
              "      border: none;\n",
              "      border-radius: 50%;\n",
              "      cursor: pointer;\n",
              "      display: none;\n",
              "      fill: #1967D2;\n",
              "      height: 32px;\n",
              "      padding: 0 0 0 0;\n",
              "      width: 32px;\n",
              "    }\n",
              "\n",
              "    .colab-df-convert:hover {\n",
              "      background-color: #E2EBFA;\n",
              "      box-shadow: 0px 1px 2px rgba(60, 64, 67, 0.3), 0px 1px 3px 1px rgba(60, 64, 67, 0.15);\n",
              "      fill: #174EA6;\n",
              "    }\n",
              "\n",
              "    .colab-df-buttons div {\n",
              "      margin-bottom: 4px;\n",
              "    }\n",
              "\n",
              "    [theme=dark] .colab-df-convert {\n",
              "      background-color: #3B4455;\n",
              "      fill: #D2E3FC;\n",
              "    }\n",
              "\n",
              "    [theme=dark] .colab-df-convert:hover {\n",
              "      background-color: #434B5C;\n",
              "      box-shadow: 0px 1px 3px 1px rgba(0, 0, 0, 0.15);\n",
              "      filter: drop-shadow(0px 1px 2px rgba(0, 0, 0, 0.3));\n",
              "      fill: #FFFFFF;\n",
              "    }\n",
              "  </style>\n",
              "\n",
              "    <script>\n",
              "      const buttonEl =\n",
              "        document.querySelector('#df-57c4cc79-6b58-4020-8323-43a186df7594 button.colab-df-convert');\n",
              "      buttonEl.style.display =\n",
              "        google.colab.kernel.accessAllowed ? 'block' : 'none';\n",
              "\n",
              "      async function convertToInteractive(key) {\n",
              "        const element = document.querySelector('#df-57c4cc79-6b58-4020-8323-43a186df7594');\n",
              "        const dataTable =\n",
              "          await google.colab.kernel.invokeFunction('convertToInteractive',\n",
              "                                                    [key], {});\n",
              "        if (!dataTable) return;\n",
              "\n",
              "        const docLinkHtml = 'Like what you see? Visit the ' +\n",
              "          '<a target=\"_blank\" href=https://colab.research.google.com/notebooks/data_table.ipynb>data table notebook</a>'\n",
              "          + ' to learn more about interactive tables.';\n",
              "        element.innerHTML = '';\n",
              "        dataTable['output_type'] = 'display_data';\n",
              "        await google.colab.output.renderOutput(dataTable, element);\n",
              "        const docLink = document.createElement('div');\n",
              "        docLink.innerHTML = docLinkHtml;\n",
              "        element.appendChild(docLink);\n",
              "      }\n",
              "    </script>\n",
              "  </div>\n",
              "\n",
              "\n",
              "<div id=\"df-2a68abb7-47eb-4eda-bc83-a75941837dda\">\n",
              "  <button class=\"colab-df-quickchart\" onclick=\"quickchart('df-2a68abb7-47eb-4eda-bc83-a75941837dda')\"\n",
              "            title=\"Suggest charts\"\n",
              "            style=\"display:none;\">\n",
              "\n",
              "<svg xmlns=\"http://www.w3.org/2000/svg\" height=\"24px\"viewBox=\"0 0 24 24\"\n",
              "     width=\"24px\">\n",
              "    <g>\n",
              "        <path d=\"M19 3H5c-1.1 0-2 .9-2 2v14c0 1.1.9 2 2 2h14c1.1 0 2-.9 2-2V5c0-1.1-.9-2-2-2zM9 17H7v-7h2v7zm4 0h-2V7h2v10zm4 0h-2v-4h2v4z\"/>\n",
              "    </g>\n",
              "</svg>\n",
              "  </button>\n",
              "\n",
              "<style>\n",
              "  .colab-df-quickchart {\n",
              "      --bg-color: #E8F0FE;\n",
              "      --fill-color: #1967D2;\n",
              "      --hover-bg-color: #E2EBFA;\n",
              "      --hover-fill-color: #174EA6;\n",
              "      --disabled-fill-color: #AAA;\n",
              "      --disabled-bg-color: #DDD;\n",
              "  }\n",
              "\n",
              "  [theme=dark] .colab-df-quickchart {\n",
              "      --bg-color: #3B4455;\n",
              "      --fill-color: #D2E3FC;\n",
              "      --hover-bg-color: #434B5C;\n",
              "      --hover-fill-color: #FFFFFF;\n",
              "      --disabled-bg-color: #3B4455;\n",
              "      --disabled-fill-color: #666;\n",
              "  }\n",
              "\n",
              "  .colab-df-quickchart {\n",
              "    background-color: var(--bg-color);\n",
              "    border: none;\n",
              "    border-radius: 50%;\n",
              "    cursor: pointer;\n",
              "    display: none;\n",
              "    fill: var(--fill-color);\n",
              "    height: 32px;\n",
              "    padding: 0;\n",
              "    width: 32px;\n",
              "  }\n",
              "\n",
              "  .colab-df-quickchart:hover {\n",
              "    background-color: var(--hover-bg-color);\n",
              "    box-shadow: 0 1px 2px rgba(60, 64, 67, 0.3), 0 1px 3px 1px rgba(60, 64, 67, 0.15);\n",
              "    fill: var(--button-hover-fill-color);\n",
              "  }\n",
              "\n",
              "  .colab-df-quickchart-complete:disabled,\n",
              "  .colab-df-quickchart-complete:disabled:hover {\n",
              "    background-color: var(--disabled-bg-color);\n",
              "    fill: var(--disabled-fill-color);\n",
              "    box-shadow: none;\n",
              "  }\n",
              "\n",
              "  .colab-df-spinner {\n",
              "    border: 2px solid var(--fill-color);\n",
              "    border-color: transparent;\n",
              "    border-bottom-color: var(--fill-color);\n",
              "    animation:\n",
              "      spin 1s steps(1) infinite;\n",
              "  }\n",
              "\n",
              "  @keyframes spin {\n",
              "    0% {\n",
              "      border-color: transparent;\n",
              "      border-bottom-color: var(--fill-color);\n",
              "      border-left-color: var(--fill-color);\n",
              "    }\n",
              "    20% {\n",
              "      border-color: transparent;\n",
              "      border-left-color: var(--fill-color);\n",
              "      border-top-color: var(--fill-color);\n",
              "    }\n",
              "    30% {\n",
              "      border-color: transparent;\n",
              "      border-left-color: var(--fill-color);\n",
              "      border-top-color: var(--fill-color);\n",
              "      border-right-color: var(--fill-color);\n",
              "    }\n",
              "    40% {\n",
              "      border-color: transparent;\n",
              "      border-right-color: var(--fill-color);\n",
              "      border-top-color: var(--fill-color);\n",
              "    }\n",
              "    60% {\n",
              "      border-color: transparent;\n",
              "      border-right-color: var(--fill-color);\n",
              "    }\n",
              "    80% {\n",
              "      border-color: transparent;\n",
              "      border-right-color: var(--fill-color);\n",
              "      border-bottom-color: var(--fill-color);\n",
              "    }\n",
              "    90% {\n",
              "      border-color: transparent;\n",
              "      border-bottom-color: var(--fill-color);\n",
              "    }\n",
              "  }\n",
              "</style>\n",
              "\n",
              "  <script>\n",
              "    async function quickchart(key) {\n",
              "      const quickchartButtonEl =\n",
              "        document.querySelector('#' + key + ' button');\n",
              "      quickchartButtonEl.disabled = true;  // To prevent multiple clicks.\n",
              "      quickchartButtonEl.classList.add('colab-df-spinner');\n",
              "      try {\n",
              "        const charts = await google.colab.kernel.invokeFunction(\n",
              "            'suggestCharts', [key], {});\n",
              "      } catch (error) {\n",
              "        console.error('Error during call to suggestCharts:', error);\n",
              "      }\n",
              "      quickchartButtonEl.classList.remove('colab-df-spinner');\n",
              "      quickchartButtonEl.classList.add('colab-df-quickchart-complete');\n",
              "    }\n",
              "    (() => {\n",
              "      let quickchartButtonEl =\n",
              "        document.querySelector('#df-2a68abb7-47eb-4eda-bc83-a75941837dda button');\n",
              "      quickchartButtonEl.style.display =\n",
              "        google.colab.kernel.accessAllowed ? 'block' : 'none';\n",
              "    })();\n",
              "  </script>\n",
              "</div>\n",
              "\n",
              "    </div>\n",
              "  </div>\n"
            ],
            "application/vnd.google.colaboratory.intrinsic+json": {
              "type": "dataframe",
              "variable_name": "sub3"
            }
          },
          "metadata": {},
          "execution_count": 22
        }
      ]
    },
    {
      "cell_type": "code",
      "source": [
        "# 예측값 평균 내기\n",
        "ensemble_sub = sub1.copy()\n",
        "ensemble_sub['FloodProbability'] = (sub1['FloodProbability'] + sub2['PredictedFloodProbability'] + sub3['FloodProbability']) / 3\n",
        "\n",
        "# 앙상블 결과 저장\n",
        "ensemble_sub.to_csv('submission_ensemble3.csv', index=False)"
      ],
      "metadata": {
        "id": "H_VzStiUsLfl"
      },
      "execution_count": 23,
      "outputs": []
    },
    {
      "cell_type": "code",
      "source": [
        "ensemble2 = sub2.copy()\n",
        "ensemble2['FloodProbability'] = sub1['FloodProbability']  +sub1['FloodProbability'] - ensemble_sub['FloodProbability']"
      ],
      "metadata": {
        "id": "R81talf8zR5C"
      },
      "execution_count": null,
      "outputs": []
    },
    {
      "cell_type": "code",
      "source": [
        "ensemble2.to_csv('submission_ensemble2.csv', index=False)"
      ],
      "metadata": {
        "id": "jzA4gFUPzpje"
      },
      "execution_count": null,
      "outputs": []
    },
    {
      "cell_type": "code",
      "source": [
        "len(ensemble_sub)"
      ],
      "metadata": {
        "id": "lQ9uGfZQ0HPV",
        "outputId": "a7353d5c-7151-48a2-db7e-2719a1906d18",
        "colab": {
          "base_uri": "https://localhost:8080/"
        }
      },
      "execution_count": 25,
      "outputs": [
        {
          "output_type": "execute_result",
          "data": {
            "text/plain": [
              "745305"
            ]
          },
          "metadata": {},
          "execution_count": 25
        }
      ]
    },
    {
      "cell_type": "code",
      "source": [
        "print(ensemble2.head())"
      ],
      "metadata": {
        "id": "HxWTfHJ5sUkv",
        "outputId": "2631a5eb-9e63-4cde-95b7-c4e6b7a47ceb",
        "colab": {
          "base_uri": "https://localhost:8080/"
        }
      },
      "execution_count": null,
      "outputs": [
        {
          "output_type": "stream",
          "name": "stdout",
          "text": [
            "        id  FloodProbability\n",
            "0  1117957          0.578473\n",
            "1  1117958          0.455535\n",
            "2  1117959          0.448232\n",
            "3  1117960          0.465968\n",
            "4  1117961          0.466263\n"
          ]
        }
      ]
    },
    {
      "cell_type": "code",
      "source": [
        "len(ensemble_sub)"
      ],
      "metadata": {
        "id": "Ji5dBGG3t4eI",
        "outputId": "b5f0b4a8-ef06-4457-92cc-14781a2aac14",
        "colab": {
          "base_uri": "https://localhost:8080/"
        }
      },
      "execution_count": null,
      "outputs": [
        {
          "output_type": "execute_result",
          "data": {
            "text/plain": [
              "745305"
            ]
          },
          "metadata": {},
          "execution_count": 51
        }
      ]
    }
  ]
}
